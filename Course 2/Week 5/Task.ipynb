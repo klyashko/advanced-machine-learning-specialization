{
 "cells": [
  {
   "cell_type": "code",
   "execution_count": 1,
   "metadata": {},
   "outputs": [],
   "source": [
    "%matplotlib inline\n",
    "\n",
    "import seaborn as sns\n",
    "import pandas as pd\n",
    "import numpy as np\n",
    "\n",
    "from matplotlib import pyplot as plt\n",
    "\n",
    "DATA = 'data/'"
   ]
  },
  {
   "cell_type": "markdown",
   "metadata": {},
   "source": [
    "File descriptions:\n",
    " * **sales_train.csv** - the training set. Daily historical data from January 2013 to October 2015.\n",
    " * **test.csv** - the test set. You need to forecast the sales for these shops and products for November 2015.\n",
    " * **sample_submission.csv** - a sample submission file in the correct format.\n",
    " * **items.csv** - supplemental information about the items/products.\n",
    " * **item_categories.csv**  - supplemental information about the items categories.\n",
    " * **shops.csv**- supplemental information about the shops.  \n",
    "\n",
    "Data fields:\n",
    " * **ID** - an Id that represents a (Shop, Item) tuple within the test set\n",
    " * **shop_id** - unique identifier of a shop\n",
    " * **item_id** - unique identifier of a product\n",
    " * **item_category_id** - unique identifier of item category\n",
    " * **item_cnt_day** - number of products sold. You are predicting a monthly amount of this measure\n",
    " * **item_price** - current price of an item\n",
    " * **date** - date in format dd/mm/yyyy\n",
    " * **date_block_num** - a consecutive month number, used for convenience. January 2013 is 0, February 2013 is 1,..., October 2015 is 33\n",
    " * **item_name** - name of item\n",
    " * **shop_name** - name of shop\n",
    " * **item_category_name** - name of item category"
   ]
  },
  {
   "cell_type": "markdown",
   "metadata": {},
   "source": [
    "### Advice 1\n",
    "Competition data is rather challenging, so the sooner you get yourself familiar with it - the better. You can start with submitting sample_submission.csv from \"Data\" page on Kaggle and try submitting different constants."
   ]
  },
  {
   "cell_type": "markdown",
   "metadata": {},
   "source": [
    "### Advice 2\n",
    "A good exercise is to reproduce previous_value_benchmark. As the name suggest - in this benchmark for the each shop/item pair our predictions are just monthly sales from the previous month, i.e. October 2015.\n",
    "\n",
    "The most important step at reproducing this score is correctly aggregating daily data and constructing monthly sales data frame. You need to get lagged values, fill NaNs with zeros and clip the values into [0,20] range. If you do it correctly, you'll get precisely 1.16777 on the public leaderboard.\n",
    "\n",
    "Generating features like this is a necessary basis for more complex models. Also, if you decide to fit some model, don't forget to clip the target into [0,20] range, it makes a big difference."
   ]
  },
  {
   "cell_type": "markdown",
   "metadata": {},
   "source": [
    "### Advice 3\n",
    "You can get a rather good score after creating some lag-based features like in advice from previous week and feeding them into gradient boosted trees model.\n",
    "\n",
    "Apart from item/shop pair lags you can try adding lagged values of total shop or total item sales (which are essentially mean-encodings). All of that is going to add some new information."
   ]
  },
  {
   "cell_type": "markdown",
   "metadata": {},
   "source": [
    "## Advice 4\n",
    "If you successfully made use of previous advises, it's time to move forward and incorporate some new knowledge from week 4. Here are several things you can do:\n",
    "\n",
    " * Try to carefully tune hyper parameters of your models, maybe there is a better set of parameters for your model out there. But don't spend too much time on it.\n",
    " * Try ensembling. Start with simple averaging of linear model and gradient boosted trees like in programming assignment notebook. And then try to use stacking.\n",
    " * Explore new features! There is a lot of useful information in the data: text descriptions, item categories, seasonal trends."
   ]
  },
  {
   "cell_type": "code",
   "execution_count": 2,
   "metadata": {},
   "outputs": [
    {
     "data": {
      "text/plain": [
       "(2935849, 6)"
      ]
     },
     "execution_count": 2,
     "metadata": {},
     "output_type": "execute_result"
    },
    {
     "data": {
      "text/plain": [
       "(214200, 3)"
      ]
     },
     "execution_count": 2,
     "metadata": {},
     "output_type": "execute_result"
    },
    {
     "data": {
      "text/html": [
       "<div>\n",
       "<style scoped>\n",
       "    .dataframe tbody tr th:only-of-type {\n",
       "        vertical-align: middle;\n",
       "    }\n",
       "\n",
       "    .dataframe tbody tr th {\n",
       "        vertical-align: top;\n",
       "    }\n",
       "\n",
       "    .dataframe thead th {\n",
       "        text-align: right;\n",
       "    }\n",
       "</style>\n",
       "<table border=\"1\" class=\"dataframe\">\n",
       "  <thead>\n",
       "    <tr style=\"text-align: right;\">\n",
       "      <th></th>\n",
       "      <th>date</th>\n",
       "      <th>date_block_num</th>\n",
       "      <th>shop_id</th>\n",
       "      <th>item_id</th>\n",
       "      <th>item_price</th>\n",
       "      <th>item_cnt_day</th>\n",
       "    </tr>\n",
       "  </thead>\n",
       "  <tbody>\n",
       "    <tr>\n",
       "      <th>0</th>\n",
       "      <td>02.01.2013</td>\n",
       "      <td>0</td>\n",
       "      <td>59</td>\n",
       "      <td>22154</td>\n",
       "      <td>999.00</td>\n",
       "      <td>1.0</td>\n",
       "    </tr>\n",
       "    <tr>\n",
       "      <th>1</th>\n",
       "      <td>03.01.2013</td>\n",
       "      <td>0</td>\n",
       "      <td>25</td>\n",
       "      <td>2552</td>\n",
       "      <td>899.00</td>\n",
       "      <td>1.0</td>\n",
       "    </tr>\n",
       "    <tr>\n",
       "      <th>2</th>\n",
       "      <td>05.01.2013</td>\n",
       "      <td>0</td>\n",
       "      <td>25</td>\n",
       "      <td>2552</td>\n",
       "      <td>899.00</td>\n",
       "      <td>-1.0</td>\n",
       "    </tr>\n",
       "    <tr>\n",
       "      <th>3</th>\n",
       "      <td>06.01.2013</td>\n",
       "      <td>0</td>\n",
       "      <td>25</td>\n",
       "      <td>2554</td>\n",
       "      <td>1709.05</td>\n",
       "      <td>1.0</td>\n",
       "    </tr>\n",
       "    <tr>\n",
       "      <th>4</th>\n",
       "      <td>15.01.2013</td>\n",
       "      <td>0</td>\n",
       "      <td>25</td>\n",
       "      <td>2555</td>\n",
       "      <td>1099.00</td>\n",
       "      <td>1.0</td>\n",
       "    </tr>\n",
       "  </tbody>\n",
       "</table>\n",
       "</div>"
      ],
      "text/plain": [
       "         date  date_block_num  shop_id  item_id  item_price  item_cnt_day\n",
       "0  02.01.2013               0       59    22154      999.00           1.0\n",
       "1  03.01.2013               0       25     2552      899.00           1.0\n",
       "2  05.01.2013               0       25     2552      899.00          -1.0\n",
       "3  06.01.2013               0       25     2554     1709.05           1.0\n",
       "4  15.01.2013               0       25     2555     1099.00           1.0"
      ]
     },
     "execution_count": 2,
     "metadata": {},
     "output_type": "execute_result"
    },
    {
     "data": {
      "text/html": [
       "<div>\n",
       "<style scoped>\n",
       "    .dataframe tbody tr th:only-of-type {\n",
       "        vertical-align: middle;\n",
       "    }\n",
       "\n",
       "    .dataframe tbody tr th {\n",
       "        vertical-align: top;\n",
       "    }\n",
       "\n",
       "    .dataframe thead th {\n",
       "        text-align: right;\n",
       "    }\n",
       "</style>\n",
       "<table border=\"1\" class=\"dataframe\">\n",
       "  <thead>\n",
       "    <tr style=\"text-align: right;\">\n",
       "      <th></th>\n",
       "      <th>ID</th>\n",
       "      <th>shop_id</th>\n",
       "      <th>item_id</th>\n",
       "    </tr>\n",
       "  </thead>\n",
       "  <tbody>\n",
       "    <tr>\n",
       "      <th>0</th>\n",
       "      <td>0</td>\n",
       "      <td>5</td>\n",
       "      <td>5037</td>\n",
       "    </tr>\n",
       "    <tr>\n",
       "      <th>1</th>\n",
       "      <td>1</td>\n",
       "      <td>5</td>\n",
       "      <td>5320</td>\n",
       "    </tr>\n",
       "    <tr>\n",
       "      <th>2</th>\n",
       "      <td>2</td>\n",
       "      <td>5</td>\n",
       "      <td>5233</td>\n",
       "    </tr>\n",
       "    <tr>\n",
       "      <th>3</th>\n",
       "      <td>3</td>\n",
       "      <td>5</td>\n",
       "      <td>5232</td>\n",
       "    </tr>\n",
       "    <tr>\n",
       "      <th>4</th>\n",
       "      <td>4</td>\n",
       "      <td>5</td>\n",
       "      <td>5268</td>\n",
       "    </tr>\n",
       "  </tbody>\n",
       "</table>\n",
       "</div>"
      ],
      "text/plain": [
       "   ID  shop_id  item_id\n",
       "0   0        5     5037\n",
       "1   1        5     5320\n",
       "2   2        5     5233\n",
       "3   3        5     5232\n",
       "4   4        5     5268"
      ]
     },
     "execution_count": 2,
     "metadata": {},
     "output_type": "execute_result"
    }
   ],
   "source": [
    "train_df = pd.read_csv(DATA + 'sales_train.csv.gz')\n",
    "test_df = pd.read_csv(DATA + 'test.csv.gz')\n",
    "\n",
    "train_df.shape\n",
    "test_df.shape\n",
    "\n",
    "train_df.head()\n",
    "test_df.head()"
   ]
  },
  {
   "cell_type": "code",
   "execution_count": 3,
   "metadata": {},
   "outputs": [
    {
     "data": {
      "text/plain": [
       "shop_id       60\n",
       "item_id    21807\n",
       "dtype: int64"
      ]
     },
     "execution_count": 3,
     "metadata": {},
     "output_type": "execute_result"
    }
   ],
   "source": [
    "train_df[['shop_id', 'item_id']].nunique()"
   ]
  },
  {
   "cell_type": "code",
   "execution_count": 4,
   "metadata": {},
   "outputs": [
    {
     "data": {
      "text/plain": [
       "<matplotlib.axes._subplots.AxesSubplot at 0x1ddda2875f8>"
      ]
     },
     "execution_count": 4,
     "metadata": {},
     "output_type": "execute_result"
    },
    {
     "data": {
      "image/png": "[encoded data removed]",
      "text/plain": [
       "<Figure size 432x288 with 1 Axes>"
      ]
     },
     "metadata": {
      "needs_background": "light"
     },
     "output_type": "display_data"
    }
   ],
   "source": [
    "sns.boxplot(x=train_df['item_cnt_day'])"
   ]
  },
  {
   "cell_type": "code",
   "execution_count": 5,
   "metadata": {},
   "outputs": [
    {
     "name": "stdout",
     "output_type": "stream",
     "text": [
      "1: 2918377\n",
      "2: 289005\n",
      "3: 94804\n",
      "4: 47454\n",
      "5: 27769\n",
      "6: 17295\n",
      "7: 10957\n",
      "8: 6900\n",
      "9: 3997\n",
      "----------------------------------------------------------\n",
      "10: 11801\n",
      "20: 3643\n",
      "30: 1626\n",
      "40: 789\n",
      "50: 421\n",
      "60: 252\n",
      "70: 147\n",
      "80: 96\n",
      "90: 39\n",
      "100: 16\n",
      "----------------------------------------------------------\n",
      "100: 138\n",
      "300: 23\n",
      "500: 12\n",
      "700: 2\n",
      "900: 2\n",
      "1100: 1\n",
      "1300: 1\n",
      "1500: 1\n",
      "1700: 1\n",
      "1900: 1\n"
     ]
    }
   ],
   "source": [
    "for i in range(1, 10):\n",
    "    size = train_df[train_df.item_cnt_day.between(i, 10)].shape[0]\n",
    "    print(f'{i}: {size}')\n",
    "    \n",
    "print('----------------------------------------------------------')\n",
    "    \n",
    "for i in range(10, 101, 10):\n",
    "    size = train_df[train_df.item_cnt_day.between(i, 101)].shape[0]\n",
    "    print(f'{i}: {size}')\n",
    "    \n",
    "print('----------------------------------------------------------')\n",
    "\n",
    "for i in range(100, 2001, 200):\n",
    "    size = train_df[train_df.item_cnt_day > i].shape[0]\n",
    "    print(f'{i}: {size}')"
   ]
  },
  {
   "cell_type": "code",
   "execution_count": 6,
   "metadata": {},
   "outputs": [],
   "source": [
    "items_df = pd.read_csv(DATA + 'items.csv')\n",
    "item_cats_df = pd.read_csv(DATA + 'item_categories.csv')\n",
    "shops_df = pd.read_csv(DATA + 'shops.csv')"
   ]
  },
  {
   "cell_type": "code",
   "execution_count": 7,
   "metadata": {},
   "outputs": [
    {
     "data": {
      "text/html": [
       "<div>\n",
       "<style scoped>\n",
       "    .dataframe tbody tr th:only-of-type {\n",
       "        vertical-align: middle;\n",
       "    }\n",
       "\n",
       "    .dataframe tbody tr th {\n",
       "        vertical-align: top;\n",
       "    }\n",
       "\n",
       "    .dataframe thead th {\n",
       "        text-align: right;\n",
       "    }\n",
       "</style>\n",
       "<table border=\"1\" class=\"dataframe\">\n",
       "  <thead>\n",
       "    <tr style=\"text-align: right;\">\n",
       "      <th></th>\n",
       "      <th>item_name</th>\n",
       "      <th>item_id</th>\n",
       "      <th>item_category_id</th>\n",
       "    </tr>\n",
       "  </thead>\n",
       "  <tbody>\n",
       "    <tr>\n",
       "      <th>0</th>\n",
       "      <td>! ВО ВЛАСТИ НАВАЖДЕНИЯ (ПЛАСТ.)         D</td>\n",
       "      <td>0</td>\n",
       "      <td>40</td>\n",
       "    </tr>\n",
       "    <tr>\n",
       "      <th>1</th>\n",
       "      <td>!ABBYY FineReader 12 Professional Edition Full...</td>\n",
       "      <td>1</td>\n",
       "      <td>76</td>\n",
       "    </tr>\n",
       "    <tr>\n",
       "      <th>2</th>\n",
       "      <td>***В ЛУЧАХ СЛАВЫ   (UNV)                    D</td>\n",
       "      <td>2</td>\n",
       "      <td>40</td>\n",
       "    </tr>\n",
       "    <tr>\n",
       "      <th>3</th>\n",
       "      <td>***ГОЛУБАЯ ВОЛНА  (Univ)                      D</td>\n",
       "      <td>3</td>\n",
       "      <td>40</td>\n",
       "    </tr>\n",
       "    <tr>\n",
       "      <th>4</th>\n",
       "      <td>***КОРОБКА (СТЕКЛО)                       D</td>\n",
       "      <td>4</td>\n",
       "      <td>40</td>\n",
       "    </tr>\n",
       "  </tbody>\n",
       "</table>\n",
       "</div>"
      ],
      "text/plain": [
       "                                           item_name  item_id  \\\n",
       "0          ! ВО ВЛАСТИ НАВАЖДЕНИЯ (ПЛАСТ.)         D        0   \n",
       "1  !ABBYY FineReader 12 Professional Edition Full...        1   \n",
       "2      ***В ЛУЧАХ СЛАВЫ   (UNV)                    D        2   \n",
       "3    ***ГОЛУБАЯ ВОЛНА  (Univ)                      D        3   \n",
       "4        ***КОРОБКА (СТЕКЛО)                       D        4   \n",
       "\n",
       "   item_category_id  \n",
       "0                40  \n",
       "1                76  \n",
       "2                40  \n",
       "3                40  \n",
       "4                40  "
      ]
     },
     "execution_count": 7,
     "metadata": {},
     "output_type": "execute_result"
    },
    {
     "data": {
      "text/html": [
       "<div>\n",
       "<style scoped>\n",
       "    .dataframe tbody tr th:only-of-type {\n",
       "        vertical-align: middle;\n",
       "    }\n",
       "\n",
       "    .dataframe tbody tr th {\n",
       "        vertical-align: top;\n",
       "    }\n",
       "\n",
       "    .dataframe thead th {\n",
       "        text-align: right;\n",
       "    }\n",
       "</style>\n",
       "<table border=\"1\" class=\"dataframe\">\n",
       "  <thead>\n",
       "    <tr style=\"text-align: right;\">\n",
       "      <th></th>\n",
       "      <th>item_category_name</th>\n",
       "      <th>item_category_id</th>\n",
       "    </tr>\n",
       "  </thead>\n",
       "  <tbody>\n",
       "    <tr>\n",
       "      <th>0</th>\n",
       "      <td>PC - Гарнитуры/Наушники</td>\n",
       "      <td>0</td>\n",
       "    </tr>\n",
       "    <tr>\n",
       "      <th>1</th>\n",
       "      <td>Аксессуары - PS2</td>\n",
       "      <td>1</td>\n",
       "    </tr>\n",
       "    <tr>\n",
       "      <th>2</th>\n",
       "      <td>Аксессуары - PS3</td>\n",
       "      <td>2</td>\n",
       "    </tr>\n",
       "    <tr>\n",
       "      <th>3</th>\n",
       "      <td>Аксессуары - PS4</td>\n",
       "      <td>3</td>\n",
       "    </tr>\n",
       "    <tr>\n",
       "      <th>4</th>\n",
       "      <td>Аксессуары - PSP</td>\n",
       "      <td>4</td>\n",
       "    </tr>\n",
       "  </tbody>\n",
       "</table>\n",
       "</div>"
      ],
      "text/plain": [
       "        item_category_name  item_category_id\n",
       "0  PC - Гарнитуры/Наушники                 0\n",
       "1         Аксессуары - PS2                 1\n",
       "2         Аксессуары - PS3                 2\n",
       "3         Аксессуары - PS4                 3\n",
       "4         Аксессуары - PSP                 4"
      ]
     },
     "execution_count": 7,
     "metadata": {},
     "output_type": "execute_result"
    },
    {
     "data": {
      "text/html": [
       "<div>\n",
       "<style scoped>\n",
       "    .dataframe tbody tr th:only-of-type {\n",
       "        vertical-align: middle;\n",
       "    }\n",
       "\n",
       "    .dataframe tbody tr th {\n",
       "        vertical-align: top;\n",
       "    }\n",
       "\n",
       "    .dataframe thead th {\n",
       "        text-align: right;\n",
       "    }\n",
       "</style>\n",
       "<table border=\"1\" class=\"dataframe\">\n",
       "  <thead>\n",
       "    <tr style=\"text-align: right;\">\n",
       "      <th></th>\n",
       "      <th>shop_name</th>\n",
       "      <th>shop_id</th>\n",
       "      <th>city_id</th>\n",
       "      <th>city</th>\n",
       "    </tr>\n",
       "  </thead>\n",
       "  <tbody>\n",
       "    <tr>\n",
       "      <th>0</th>\n",
       "      <td>!Якутск Орджоникидзе, 56 фран</td>\n",
       "      <td>0</td>\n",
       "      <td>1</td>\n",
       "      <td>Якутск</td>\n",
       "    </tr>\n",
       "    <tr>\n",
       "      <th>1</th>\n",
       "      <td>!Якутск ТЦ \"Центральный\" фран</td>\n",
       "      <td>1</td>\n",
       "      <td>1</td>\n",
       "      <td>Якутск</td>\n",
       "    </tr>\n",
       "    <tr>\n",
       "      <th>2</th>\n",
       "      <td>Адыгея ТЦ \"Мега\"</td>\n",
       "      <td>2</td>\n",
       "      <td>2</td>\n",
       "      <td>Адыгея</td>\n",
       "    </tr>\n",
       "    <tr>\n",
       "      <th>3</th>\n",
       "      <td>Балашиха ТРК \"Октябрь-Киномир\"</td>\n",
       "      <td>3</td>\n",
       "      <td>3</td>\n",
       "      <td>Балашиха</td>\n",
       "    </tr>\n",
       "    <tr>\n",
       "      <th>4</th>\n",
       "      <td>Волжский ТЦ \"Волга Молл\"</td>\n",
       "      <td>4</td>\n",
       "      <td>4</td>\n",
       "      <td>Волжский</td>\n",
       "    </tr>\n",
       "  </tbody>\n",
       "</table>\n",
       "</div>"
      ],
      "text/plain": [
       "                        shop_name  shop_id  city_id      city\n",
       "0   !Якутск Орджоникидзе, 56 фран        0        1    Якутск\n",
       "1   !Якутск ТЦ \"Центральный\" фран        1        1    Якутск\n",
       "2                Адыгея ТЦ \"Мега\"        2        2    Адыгея\n",
       "3  Балашиха ТРК \"Октябрь-Киномир\"        3        3  Балашиха\n",
       "4        Волжский ТЦ \"Волга Молл\"        4        4  Волжский"
      ]
     },
     "execution_count": 7,
     "metadata": {},
     "output_type": "execute_result"
    }
   ],
   "source": [
    "items_df.head()\n",
    "item_cats_df.head()\n",
    "shops_df.head()"
   ]
  },
  {
   "cell_type": "code",
   "execution_count": 8,
   "metadata": {},
   "outputs": [
    {
     "data": {
      "text/plain": [
       "'(Якутск|Адыгея|Балашиха|Волжский|Вологда|Воронеж|Жуковский|Казань|Калуга|Коломна|Красноярск|Курск|Москва|Н.Новгород|Мытищи|Новосибирск|РостовНаДону|Омск|СПб|Самара|Сергиев Посад|Сургут|Томск|Тюмень|Уфа|Химки|Чехов|Ярославль)'"
      ]
     },
     "execution_count": 8,
     "metadata": {},
     "output_type": "execute_result"
    }
   ],
   "source": [
    "cities = [\n",
    "    'Якутск', 'Адыгея', 'Балашиха', 'Волжский', 'Вологда', 'Воронеж',\n",
    "    'Жуковский', 'Казань', 'Калуга', 'Коломна', 'Красноярск', 'Курск',\n",
    "    'Москва', 'Н.Новгород', 'Мытищи', 'Новосибирск', 'РостовНаДону', 'Омск',\n",
    "    'СПб', 'Самара', 'Сергиев Посад', 'Сургут', 'Томск', 'Тюмень', 'Уфа', 'Химки', 'Чехов', 'Ярославль'\n",
    "]\n",
    "pattern = '(' + '|'.join(cities) + ')'\n",
    "pattern\n",
    "shops_df['city'] = shops_df.shop_name.str.extract(pattern)"
   ]
  },
  {
   "cell_type": "code",
   "execution_count": 9,
   "metadata": {},
   "outputs": [],
   "source": [
    "shops_df.city.fillna('-', inplace=True)"
   ]
  },
  {
   "cell_type": "code",
   "execution_count": 10,
   "metadata": {},
   "outputs": [],
   "source": [
    "cities = shops_df.city.unique()"
   ]
  },
  {
   "cell_type": "code",
   "execution_count": 11,
   "metadata": {},
   "outputs": [],
   "source": [
    "values = {'city': cities, 'city_id': range(1, len(cities) + 1)}\n",
    "cities_df = pd.DataFrame.from_dict(values)"
   ]
  },
  {
   "cell_type": "code",
   "execution_count": 12,
   "metadata": {},
   "outputs": [],
   "source": [
    "shops_df = shops_df.merge(cities_df, how='left', on='city')\n",
    "shops_df.drop('city', inplace=True, axis=1)"
   ]
  },
  {
   "cell_type": "code",
   "execution_count": 13,
   "metadata": {},
   "outputs": [],
   "source": [
    "# cities_df.to_csv(DATA + 'cities.csv', index=False)\n",
    "# shops_df.to_csv(DATA + 'shops.csv', index=False)"
   ]
  },
  {
   "cell_type": "code",
   "execution_count": 14,
   "metadata": {},
   "outputs": [],
   "source": [
    "shops = {0: 57, 1: 58, 11: 10, 23: 24}\n",
    "\n",
    "train_df.shop_id.replace(shops, inplace=True)\n",
    "test_df.shop_id.replace(shops, inplace=True)\n",
    "\n",
    "train_df.item_cnt_day.clip(0, 20, inplace=True)"
   ]
  },
  {
   "cell_type": "code",
   "execution_count": 15,
   "metadata": {},
   "outputs": [],
   "source": [
    "sums = train_df.groupby(['date_block_num', 'shop_id', 'item_id']).item_cnt_day.sum()\n",
    "sums = sums.reset_index()\n",
    "\n",
    "train_df.drop_duplicates(subset=['date_block_num', 'shop_id', 'item_id'], keep='last', inplace=True)\n",
    "\n",
    "train_df = train_df.merge(sums, on=['date_block_num', 'shop_id', 'item_id'], how='left')\n",
    "train_df.drop('item_cnt_day_x', inplace=True, axis=1)\n",
    "train_df.rename({'item_cnt_day_y': 'item_cnt_day'}, inplace=True, axis=1)"
   ]
  },
  {
   "cell_type": "code",
   "execution_count": 16,
   "metadata": {},
   "outputs": [
    {
     "data": {
      "text/plain": [
       "<matplotlib.axes._subplots.AxesSubplot at 0x1ddda7e8d68>"
      ]
     },
     "execution_count": 16,
     "metadata": {},
     "output_type": "execute_result"
    },
    {
     "data": {
      "image/png": "[encoded data removed]",
      "text/plain": [
       "<Figure size 432x288 with 1 Axes>"
      ]
     },
     "metadata": {
      "needs_background": "light"
     },
     "output_type": "display_data"
    }
   ],
   "source": [
    "train_df.boxplot(column='item_cnt_day')"
   ]
  },
  {
   "cell_type": "code",
   "execution_count": 17,
   "metadata": {},
   "outputs": [],
   "source": [
    "# train_df.to_hdf(DATA + 'train_cleaned.h5', key='train', format='table', mode='w')\n",
    "# test_df.to_hdf(DATA + 'test_cleaned.h5', key='test', format='table', mode='w')"
   ]
  },
  {
   "cell_type": "code",
   "execution_count": 28,
   "metadata": {},
   "outputs": [],
   "source": [
    "test_df['shop_item'] = test_df.astype(str).shop_id + '_' + test_df.astype(str).item_id\n",
    "train_df['shop_item'] = train_df.astype(str).shop_id + '_' + train_df.astype(str).item_id"
   ]
  },
  {
   "cell_type": "code",
   "execution_count": 29,
   "metadata": {},
   "outputs": [],
   "source": [
    "month_df = pd.DataFrame.from_dict({'date_block_num': range(0, 34), 'key': 0})\n",
    "\n",
    "test_df['key'] = 0\n",
    "tmp = test_df[['shop_item', 'key']]\n",
    "\n",
    "tmp = tmp.merge(month_df, how='outer', on='key')\n",
    "\n",
    "tmp.drop('key', inplace=True, axis=1)\n",
    "\n",
    "tmp = tmp.merge(train_df, how='left', on=['shop_item', 'date_block_num'])\n",
    "\n",
    "tmp.drop(['date', 'shop_id', 'item_id'], inplace=True, axis=1)\n",
    "\n",
    "tmp['shop_id'] = tmp.shop_item.str.split('_').map(lambda x: x[0])\n",
    "tmp['item_id'] = tmp.shop_item.str.split('_').map(lambda x: x[1])\n",
    "\n",
    "grouped = tmp[tmp.item_price.notna()].groupby('item_id').item_price.median()"
   ]
  },
  {
   "cell_type": "code",
   "execution_count": 30,
   "metadata": {},
   "outputs": [],
   "source": [
    "tmp = tmp.merge(grouped.to_frame(), how='left', left_on='item_id', right_index=True)\n",
    "\n",
    "tmp.loc[tmp.item_price_x.isna(), 'item_price_x'] = tmp.loc[tmp.item_price_x.isna(), 'item_price_y']\n",
    "\n",
    "tmp.drop('item_price_y', inplace=True, axis=1)\n",
    "tmp.rename({'item_price_x': 'item_price'}, inplace=True, axis=1)\n",
    "\n",
    "tmp.item_cnt_day.fillna(0, inplace=True)\n",
    "tmp.item_cnt_day.clip(0, 20, inplace=True)\n",
    "\n",
    "tmp.drop('shop_item', inplace=True, axis=1)\n",
    "\n",
    "tmp.sort_values(by='date_block_num', inplace=True)\n",
    "\n",
    "tmp.reset_index(inplace=True)\n",
    "\n",
    "tmp.drop('index', inplace=True, axis=1)"
   ]
  },
  {
   "cell_type": "code",
   "execution_count": 31,
   "metadata": {},
   "outputs": [],
   "source": [
    "# tmp.to_hdf(DATA + 'train_augmented.h5', key='train', format='table', mode='w')"
   ]
  },
  {
   "cell_type": "code",
   "execution_count": 32,
   "metadata": {},
   "outputs": [],
   "source": [
    "train_df = tmp"
   ]
  },
  {
   "cell_type": "code",
   "execution_count": 33,
   "metadata": {},
   "outputs": [],
   "source": [
    "train_df['tmp'] = 0\n",
    "train_df.loc[train_df.item_cnt_day != 0, 'tmp'] = 1\n",
    "\n",
    "grouped = train_df.groupby('date_block_num')\n",
    "\n",
    "tmp = grouped.tmp.sum() / grouped.tmp.count()"
   ]
  },
  {
   "cell_type": "code",
   "execution_count": 34,
   "metadata": {},
   "outputs": [
    {
     "data": {
      "image/png": "[encoded data removed]",
      "text/plain": [
       "<Figure size 720x360 with 1 Axes>"
      ]
     },
     "metadata": {
      "needs_background": "light"
     },
     "output_type": "display_data"
    }
   ],
   "source": [
    "fgr = plt.figure(figsize=(10, 5))\n",
    "plt.plot(tmp.index.values, tmp.values);"
   ]
  },
  {
   "cell_type": "code",
   "execution_count": 35,
   "metadata": {},
   "outputs": [
    {
     "data": {
      "image/png": "[encoded data removed]",
      "text/plain": [
       "<Figure size 720x360 with 1 Axes>"
      ]
     },
     "metadata": {
      "needs_background": "light"
     },
     "output_type": "display_data"
    }
   ],
   "source": [
    "sums = grouped.item_cnt_day.sum()\n",
    "\n",
    "fgr = plt.figure(figsize=(10, 5))\n",
    "plt.plot(sums.index.values, sums.values);"
   ]
  },
  {
   "cell_type": "markdown",
   "metadata": {},
   "source": [
    "Futures generation is omitted due to a lot of code which not always written in good way."
   ]
  },
  {
   "cell_type": "code",
   "execution_count": 2,
   "metadata": {},
   "outputs": [],
   "source": [
    "import lightgbm as lgb\n",
    "\n",
    "from sklearn.model_selection import cross_val_score, TimeSeriesSplit, train_test_split\n",
    "from sklearn.metrics import mean_squared_error\n",
    "from lightgbm import LGBMRegressor\n",
    "\n",
    "import matplotlib.pyplot as plt"
   ]
  },
  {
   "cell_type": "code",
   "execution_count": 3,
   "metadata": {},
   "outputs": [
    {
     "data": {
      "text/plain": [
       "(4712400, 33)"
      ]
     },
     "execution_count": 3,
     "metadata": {},
     "output_type": "execute_result"
    },
    {
     "data": {
      "text/html": [
       "<div>\n",
       "<style scoped>\n",
       "    .dataframe tbody tr th:only-of-type {\n",
       "        vertical-align: middle;\n",
       "    }\n",
       "\n",
       "    .dataframe tbody tr th {\n",
       "        vertical-align: top;\n",
       "    }\n",
       "\n",
       "    .dataframe thead th {\n",
       "        text-align: right;\n",
       "    }\n",
       "</style>\n",
       "<table border=\"1\" class=\"dataframe\">\n",
       "  <thead>\n",
       "    <tr style=\"text-align: right;\">\n",
       "      <th></th>\n",
       "      <th>date_block_num</th>\n",
       "      <th>item_price</th>\n",
       "      <th>item_cnt_day</th>\n",
       "      <th>shop_id</th>\n",
       "      <th>item_id</th>\n",
       "      <th>item_category_id</th>\n",
       "      <th>city_id</th>\n",
       "      <th>item_lag_1</th>\n",
       "      <th>item_lag_3</th>\n",
       "      <th>item_lag_6</th>\n",
       "      <th>...</th>\n",
       "      <th>item_city_lag_12</th>\n",
       "      <th>item_category_city_lag_1</th>\n",
       "      <th>item_category_city_lag_3</th>\n",
       "      <th>item_category_city_lag_6</th>\n",
       "      <th>item_category_city_lag_9</th>\n",
       "      <th>item_category_city_lag_12</th>\n",
       "      <th>item_city_avg</th>\n",
       "      <th>item_category_city_avg</th>\n",
       "      <th>month</th>\n",
       "      <th>days</th>\n",
       "    </tr>\n",
       "  </thead>\n",
       "  <tbody>\n",
       "    <tr>\n",
       "      <th>61200</th>\n",
       "      <td>12</td>\n",
       "      <td>6999.0</td>\n",
       "      <td>0.0</td>\n",
       "      <td>5</td>\n",
       "      <td>3839</td>\n",
       "      <td>24</td>\n",
       "      <td>5</td>\n",
       "      <td>0.000000</td>\n",
       "      <td>0.000000</td>\n",
       "      <td>0.0</td>\n",
       "      <td>...</td>\n",
       "      <td>0.0</td>\n",
       "      <td>0.000000</td>\n",
       "      <td>0.000000</td>\n",
       "      <td>0.000000</td>\n",
       "      <td>0.000000</td>\n",
       "      <td>0.0</td>\n",
       "      <td>0.000000</td>\n",
       "      <td>0.000000</td>\n",
       "      <td>1</td>\n",
       "      <td>31</td>\n",
       "    </tr>\n",
       "    <tr>\n",
       "      <th>61201</th>\n",
       "      <td>12</td>\n",
       "      <td>899.0</td>\n",
       "      <td>0.0</td>\n",
       "      <td>5</td>\n",
       "      <td>6415</td>\n",
       "      <td>23</td>\n",
       "      <td>5</td>\n",
       "      <td>0.000000</td>\n",
       "      <td>0.032258</td>\n",
       "      <td>0.0</td>\n",
       "      <td>...</td>\n",
       "      <td>0.0</td>\n",
       "      <td>1.838710</td>\n",
       "      <td>1.483871</td>\n",
       "      <td>0.258065</td>\n",
       "      <td>0.322581</td>\n",
       "      <td>0.0</td>\n",
       "      <td>0.083333</td>\n",
       "      <td>0.153153</td>\n",
       "      <td>1</td>\n",
       "      <td>31</td>\n",
       "    </tr>\n",
       "    <tr>\n",
       "      <th>61202</th>\n",
       "      <td>12</td>\n",
       "      <td>2090.0</td>\n",
       "      <td>0.0</td>\n",
       "      <td>5</td>\n",
       "      <td>5664</td>\n",
       "      <td>3</td>\n",
       "      <td>5</td>\n",
       "      <td>0.032258</td>\n",
       "      <td>0.000000</td>\n",
       "      <td>0.0</td>\n",
       "      <td>...</td>\n",
       "      <td>0.0</td>\n",
       "      <td>1.000000</td>\n",
       "      <td>0.000000</td>\n",
       "      <td>0.000000</td>\n",
       "      <td>0.000000</td>\n",
       "      <td>0.0</td>\n",
       "      <td>0.083333</td>\n",
       "      <td>0.107143</td>\n",
       "      <td>1</td>\n",
       "      <td>31</td>\n",
       "    </tr>\n",
       "    <tr>\n",
       "      <th>61203</th>\n",
       "      <td>12</td>\n",
       "      <td>2599.0</td>\n",
       "      <td>6.0</td>\n",
       "      <td>5</td>\n",
       "      <td>3734</td>\n",
       "      <td>23</td>\n",
       "      <td>5</td>\n",
       "      <td>0.516129</td>\n",
       "      <td>0.645161</td>\n",
       "      <td>0.0</td>\n",
       "      <td>...</td>\n",
       "      <td>0.0</td>\n",
       "      <td>1.838710</td>\n",
       "      <td>1.483871</td>\n",
       "      <td>0.258065</td>\n",
       "      <td>0.322581</td>\n",
       "      <td>0.0</td>\n",
       "      <td>5.583333</td>\n",
       "      <td>0.153067</td>\n",
       "      <td>1</td>\n",
       "      <td>31</td>\n",
       "    </tr>\n",
       "    <tr>\n",
       "      <th>61204</th>\n",
       "      <td>12</td>\n",
       "      <td>599.0</td>\n",
       "      <td>0.0</td>\n",
       "      <td>5</td>\n",
       "      <td>6710</td>\n",
       "      <td>30</td>\n",
       "      <td>5</td>\n",
       "      <td>0.000000</td>\n",
       "      <td>0.000000</td>\n",
       "      <td>0.0</td>\n",
       "      <td>...</td>\n",
       "      <td>0.0</td>\n",
       "      <td>4.806452</td>\n",
       "      <td>3.129032</td>\n",
       "      <td>2.741935</td>\n",
       "      <td>1.838710</td>\n",
       "      <td>0.0</td>\n",
       "      <td>0.000000</td>\n",
       "      <td>0.643995</td>\n",
       "      <td>1</td>\n",
       "      <td>31</td>\n",
       "    </tr>\n",
       "  </tbody>\n",
       "</table>\n",
       "<p>5 rows × 33 columns</p>\n",
       "</div>"
      ],
      "text/plain": [
       "       date_block_num  item_price  item_cnt_day  shop_id  item_id  \\\n",
       "61200              12      6999.0           0.0        5     3839   \n",
       "61201              12       899.0           0.0        5     6415   \n",
       "61202              12      2090.0           0.0        5     5664   \n",
       "61203              12      2599.0           6.0        5     3734   \n",
       "61204              12       599.0           0.0        5     6710   \n",
       "\n",
       "       item_category_id  city_id  item_lag_1  item_lag_3  item_lag_6  ...   \\\n",
       "61200                24        5    0.000000    0.000000         0.0  ...    \n",
       "61201                23        5    0.000000    0.032258         0.0  ...    \n",
       "61202                 3        5    0.032258    0.000000         0.0  ...    \n",
       "61203                23        5    0.516129    0.645161         0.0  ...    \n",
       "61204                30        5    0.000000    0.000000         0.0  ...    \n",
       "\n",
       "       item_city_lag_12  item_category_city_lag_1  item_category_city_lag_3  \\\n",
       "61200               0.0                  0.000000                  0.000000   \n",
       "61201               0.0                  1.838710                  1.483871   \n",
       "61202               0.0                  1.000000                  0.000000   \n",
       "61203               0.0                  1.838710                  1.483871   \n",
       "61204               0.0                  4.806452                  3.129032   \n",
       "\n",
       "       item_category_city_lag_6  item_category_city_lag_9  \\\n",
       "61200                  0.000000                  0.000000   \n",
       "61201                  0.258065                  0.322581   \n",
       "61202                  0.000000                  0.000000   \n",
       "61203                  0.258065                  0.322581   \n",
       "61204                  2.741935                  1.838710   \n",
       "\n",
       "       item_category_city_lag_12  item_city_avg  item_category_city_avg  \\\n",
       "61200                        0.0       0.000000                0.000000   \n",
       "61201                        0.0       0.083333                0.153153   \n",
       "61202                        0.0       0.083333                0.107143   \n",
       "61203                        0.0       5.583333                0.153067   \n",
       "61204                        0.0       0.000000                0.643995   \n",
       "\n",
       "       month  days  \n",
       "61200      1    31  \n",
       "61201      1    31  \n",
       "61202      1    31  \n",
       "61203      1    31  \n",
       "61204      1    31  \n",
       "\n",
       "[5 rows x 33 columns]"
      ]
     },
     "execution_count": 3,
     "metadata": {},
     "output_type": "execute_result"
    }
   ],
   "source": [
    "train_df = pd.read_hdf(DATA + 'features_v1.h5', key='features')\n",
    "\n",
    "train_df.shape\n",
    "train_df.head()"
   ]
  },
  {
   "cell_type": "code",
   "execution_count": 4,
   "metadata": {},
   "outputs": [],
   "source": [
    "y_df = train_df.item_cnt_day\n",
    "train_df.drop('item_cnt_day', inplace=True, axis=1)"
   ]
  },
  {
   "cell_type": "code",
   "execution_count": 5,
   "metadata": {},
   "outputs": [
    {
     "data": {
      "text/plain": [
       "Index(['date_block_num', 'item_price', 'shop_id', 'item_id',\n",
       "       'item_category_id', 'city_id', 'item_lag_1', 'item_lag_3', 'item_lag_6',\n",
       "       'item_lag_9', 'item_lag_12', 'item_category_lag_1',\n",
       "       'item_category_lag_3', 'item_category_lag_6', 'item_category_lag_9',\n",
       "       'item_category_lag_12', 'item_avg', 'item_category_avg',\n",
       "       'item_city_lag_1', 'item_city_lag_3', 'item_city_lag_6',\n",
       "       'item_city_lag_9', 'item_city_lag_12', 'item_category_city_lag_1',\n",
       "       'item_category_city_lag_3', 'item_category_city_lag_6',\n",
       "       'item_category_city_lag_9', 'item_category_city_lag_12',\n",
       "       'item_city_avg', 'item_category_city_avg', 'month', 'days'],\n",
       "      dtype='object')"
      ]
     },
     "execution_count": 5,
     "metadata": {},
     "output_type": "execute_result"
    }
   ],
   "source": [
    "train_df.columns"
   ]
  },
  {
   "cell_type": "code",
   "execution_count": 6,
   "metadata": {},
   "outputs": [],
   "source": [
    "columns = [\n",
    "    'item_price', 'shop_id', 'item_id', 'item_category_id', 'city_id', 'month', 'days',\n",
    "    'date_block_num', 'item_lag_1', 'item_lag_3', 'item_lag_6', 'item_lag_9',\n",
    "    'item_lag_12', 'item_category_lag_1', 'item_category_lag_3',\n",
    "    'item_category_lag_6', 'item_category_lag_9', 'item_category_lag_12',\n",
    "    'item_avg', 'item_category_avg', 'item_city_lag_1', 'item_city_lag_3',\n",
    "    'item_city_lag_6', 'item_city_lag_9', 'item_city_lag_12',\n",
    "    'item_category_city_lag_1', 'item_category_city_lag_3',\n",
    "    'item_category_city_lag_6', 'item_category_city_lag_9',\n",
    "    'item_category_city_lag_12', 'item_city_avg', 'item_category_city_avg'\n",
    "]"
   ]
  },
  {
   "cell_type": "code",
   "execution_count": 7,
   "metadata": {},
   "outputs": [],
   "source": [
    "X = train_df[train_df.date_block_num > 23][columns].values\n",
    "y = y_df[train_df.date_block_num > 23].values"
   ]
  },
  {
   "cell_type": "code",
   "execution_count": 8,
   "metadata": {},
   "outputs": [],
   "source": [
    "def cross_val_score_lgb(X, y, cv, params, categorical_feature):\n",
    "\n",
    "    scores = []\n",
    "\n",
    "    for train_idx, valid_idx in cv.split(X, y):\n",
    "\n",
    "        X_train, y_train = X[train_idx], y[train_idx]\n",
    "        X_valid, y_valid = X[valid_idx], y[valid_idx]\n",
    "\n",
    "        lgb_train = lgb.Dataset(X_train, y_train)\n",
    "        lgb_eval = lgb.Dataset(X_valid, y_valid, reference=lgb_train)\n",
    "\n",
    "        gbm = lgb.train(\n",
    "            params,\n",
    "            lgb_train,\n",
    "            valid_sets=lgb_eval,\n",
    "            early_stopping_rounds=30,\n",
    "            verbose_eval=10,\n",
    "            categorical_feature=categorical_feature)\n",
    "\n",
    "        y_pred = gbm.predict(X_valid, num_iteration=gbm.best_iteration)\n",
    "        score = mean_squared_error(y_valid, y_pred)**0.5\n",
    "        scores.append(score)\n",
    "        print(\"RMSE score:\", score)\n",
    "\n",
    "    return gbm, scores"
   ]
  },
  {
   "cell_type": "code",
   "execution_count": 9,
   "metadata": {},
   "outputs": [
    {
     "name": "stderr",
     "output_type": "stream",
     "text": [
      "C:\\Users\\kipil\\Anaconda3\\lib\\site-packages\\lightgbm\\engine.py:116: UserWarning: Found `num_iterations` in params. Will use it instead of argument\n",
      "  warnings.warn(\"Found `{}` in params. Will use it instead of argument\".format(alias))\n",
      "C:\\Users\\kipil\\Anaconda3\\lib\\site-packages\\lightgbm\\basic.py:1190: UserWarning: categorical_feature in Dataset is overridden.\n",
      "New categorical_feature is [0, 1, 2, 3, 4, 5, 6]\n",
      "  'New categorical_feature is {}'.format(sorted(list(categorical_feature))))\n",
      "C:\\Users\\kipil\\Anaconda3\\lib\\site-packages\\lightgbm\\basic.py:1190: UserWarning: categorical_feature in Dataset is overridden.\n",
      "New categorical_feature is [0, 1, 2, 3, 4, 5, 6]\n",
      "  'New categorical_feature is {}'.format(sorted(list(categorical_feature))))\n",
      "C:\\Users\\kipil\\Anaconda3\\lib\\site-packages\\lightgbm\\basic.py:752: UserWarning: categorical_feature in param dict is overridden.\n",
      "  warnings.warn('categorical_feature in param dict is overridden.')\n"
     ]
    },
    {
     "name": "stdout",
     "output_type": "stream",
     "text": [
      "Training until validation scores don't improve for 30 rounds.\n",
      "[10]\tvalid_0's rmse: 0.807717\n",
      "[20]\tvalid_0's rmse: 0.752719\n",
      "[30]\tvalid_0's rmse: 0.731221\n",
      "[40]\tvalid_0's rmse: 0.718519\n",
      "[50]\tvalid_0's rmse: 0.7097\n",
      "[60]\tvalid_0's rmse: 0.702782\n",
      "[70]\tvalid_0's rmse: 0.699271\n",
      "[80]\tvalid_0's rmse: 0.695775\n",
      "[90]\tvalid_0's rmse: 0.692892\n",
      "[100]\tvalid_0's rmse: 0.689714\n",
      "[110]\tvalid_0's rmse: 0.686631\n",
      "[120]\tvalid_0's rmse: 0.684439\n",
      "[130]\tvalid_0's rmse: 0.681558\n",
      "[140]\tvalid_0's rmse: 0.677728\n",
      "[150]\tvalid_0's rmse: 0.676515\n",
      "[160]\tvalid_0's rmse: 0.674592\n",
      "[170]\tvalid_0's rmse: 0.673296\n",
      "[180]\tvalid_0's rmse: 0.671837\n",
      "[190]\tvalid_0's rmse: 0.670859\n",
      "[200]\tvalid_0's rmse: 0.66942\n",
      "[210]\tvalid_0's rmse: 0.668813\n",
      "[220]\tvalid_0's rmse: 0.66838\n",
      "[230]\tvalid_0's rmse: 0.667185\n",
      "[240]\tvalid_0's rmse: 0.666335\n",
      "[250]\tvalid_0's rmse: 0.665576\n",
      "[260]\tvalid_0's rmse: 0.664901\n",
      "[270]\tvalid_0's rmse: 0.663988\n",
      "[280]\tvalid_0's rmse: 0.663593\n",
      "[290]\tvalid_0's rmse: 0.663228\n",
      "[300]\tvalid_0's rmse: 0.662281\n",
      "[310]\tvalid_0's rmse: 0.661874\n",
      "[320]\tvalid_0's rmse: 0.661283\n",
      "[330]\tvalid_0's rmse: 0.660552\n",
      "[340]\tvalid_0's rmse: 0.660273\n",
      "[350]\tvalid_0's rmse: 0.659924\n",
      "[360]\tvalid_0's rmse: 0.659486\n",
      "[370]\tvalid_0's rmse: 0.659044\n",
      "[380]\tvalid_0's rmse: 0.658735\n",
      "[390]\tvalid_0's rmse: 0.65835\n",
      "[400]\tvalid_0's rmse: 0.658014\n",
      "[410]\tvalid_0's rmse: 0.657726\n",
      "[420]\tvalid_0's rmse: 0.657135\n",
      "[430]\tvalid_0's rmse: 0.656951\n",
      "[440]\tvalid_0's rmse: 0.656657\n",
      "[450]\tvalid_0's rmse: 0.656383\n",
      "[460]\tvalid_0's rmse: 0.65598\n",
      "[470]\tvalid_0's rmse: 0.655743\n",
      "[480]\tvalid_0's rmse: 0.655479\n",
      "[490]\tvalid_0's rmse: 0.655193\n",
      "[500]\tvalid_0's rmse: 0.654889\n",
      "Did not meet early stopping. Best iteration is:\n",
      "[495]\tvalid_0's rmse: 0.654869\n",
      "RMSE score: 0.6644034323287625\n"
     ]
    },
    {
     "name": "stderr",
     "output_type": "stream",
     "text": [
      "C:\\Users\\kipil\\Anaconda3\\lib\\site-packages\\lightgbm\\engine.py:116: UserWarning: Found `num_iterations` in params. Will use it instead of argument\n",
      "  warnings.warn(\"Found `{}` in params. Will use it instead of argument\".format(alias))\n",
      "C:\\Users\\kipil\\Anaconda3\\lib\\site-packages\\lightgbm\\basic.py:1190: UserWarning: categorical_feature in Dataset is overridden.\n",
      "New categorical_feature is [0, 1, 2, 3, 4, 5, 6]\n",
      "  'New categorical_feature is {}'.format(sorted(list(categorical_feature))))\n",
      "C:\\Users\\kipil\\Anaconda3\\lib\\site-packages\\lightgbm\\basic.py:1190: UserWarning: categorical_feature in Dataset is overridden.\n",
      "New categorical_feature is [0, 1, 2, 3, 4, 5, 6]\n",
      "  'New categorical_feature is {}'.format(sorted(list(categorical_feature))))\n",
      "C:\\Users\\kipil\\Anaconda3\\lib\\site-packages\\lightgbm\\basic.py:752: UserWarning: categorical_feature in param dict is overridden.\n",
      "  warnings.warn('categorical_feature in param dict is overridden.')\n"
     ]
    },
    {
     "name": "stdout",
     "output_type": "stream",
     "text": [
      "Training until validation scores don't improve for 30 rounds.\n",
      "[10]\tvalid_0's rmse: 0.642837\n",
      "[20]\tvalid_0's rmse: 0.599939\n",
      "[30]\tvalid_0's rmse: 0.579649\n",
      "[40]\tvalid_0's rmse: 0.569285\n",
      "[50]\tvalid_0's rmse: 0.560372\n",
      "[60]\tvalid_0's rmse: 0.547434\n",
      "[70]\tvalid_0's rmse: 0.54268\n",
      "[80]\tvalid_0's rmse: 0.539785\n",
      "[90]\tvalid_0's rmse: 0.535338\n",
      "[100]\tvalid_0's rmse: 0.53263\n",
      "[110]\tvalid_0's rmse: 0.531135\n",
      "[120]\tvalid_0's rmse: 0.530417\n",
      "[130]\tvalid_0's rmse: 0.528749\n",
      "[140]\tvalid_0's rmse: 0.525435\n",
      "[150]\tvalid_0's rmse: 0.522541\n",
      "[160]\tvalid_0's rmse: 0.521293\n",
      "[170]\tvalid_0's rmse: 0.5192\n",
      "[180]\tvalid_0's rmse: 0.518007\n",
      "[190]\tvalid_0's rmse: 0.517185\n",
      "[200]\tvalid_0's rmse: 0.514839\n",
      "[210]\tvalid_0's rmse: 0.513123\n",
      "[220]\tvalid_0's rmse: 0.511421\n",
      "[230]\tvalid_0's rmse: 0.509813\n",
      "[240]\tvalid_0's rmse: 0.50747\n",
      "[250]\tvalid_0's rmse: 0.506092\n",
      "[260]\tvalid_0's rmse: 0.504646\n",
      "[270]\tvalid_0's rmse: 0.504176\n",
      "[280]\tvalid_0's rmse: 0.503382\n",
      "[290]\tvalid_0's rmse: 0.502462\n",
      "[300]\tvalid_0's rmse: 0.501495\n",
      "[310]\tvalid_0's rmse: 0.500845\n",
      "[320]\tvalid_0's rmse: 0.5005\n",
      "[330]\tvalid_0's rmse: 0.499524\n",
      "[340]\tvalid_0's rmse: 0.498479\n",
      "[350]\tvalid_0's rmse: 0.497923\n",
      "[360]\tvalid_0's rmse: 0.497506\n",
      "[370]\tvalid_0's rmse: 0.497068\n",
      "[380]\tvalid_0's rmse: 0.496572\n",
      "[390]\tvalid_0's rmse: 0.496313\n",
      "[400]\tvalid_0's rmse: 0.495923\n",
      "[410]\tvalid_0's rmse: 0.495705\n",
      "[420]\tvalid_0's rmse: 0.49494\n",
      "[430]\tvalid_0's rmse: 0.494558\n",
      "[440]\tvalid_0's rmse: 0.49401\n",
      "[450]\tvalid_0's rmse: 0.493981\n",
      "[460]\tvalid_0's rmse: 0.493344\n",
      "[470]\tvalid_0's rmse: 0.493195\n",
      "[480]\tvalid_0's rmse: 0.492194\n",
      "[490]\tvalid_0's rmse: 0.492314\n",
      "[500]\tvalid_0's rmse: 0.491805\n",
      "Did not meet early stopping. Best iteration is:\n",
      "[500]\tvalid_0's rmse: 0.491805\n",
      "RMSE score: 0.4910133320176178\n"
     ]
    },
    {
     "name": "stderr",
     "output_type": "stream",
     "text": [
      "C:\\Users\\kipil\\Anaconda3\\lib\\site-packages\\lightgbm\\engine.py:116: UserWarning: Found `num_iterations` in params. Will use it instead of argument\n",
      "  warnings.warn(\"Found `{}` in params. Will use it instead of argument\".format(alias))\n",
      "C:\\Users\\kipil\\Anaconda3\\lib\\site-packages\\lightgbm\\basic.py:1190: UserWarning: categorical_feature in Dataset is overridden.\n",
      "New categorical_feature is [0, 1, 2, 3, 4, 5, 6]\n",
      "  'New categorical_feature is {}'.format(sorted(list(categorical_feature))))\n",
      "C:\\Users\\kipil\\Anaconda3\\lib\\site-packages\\lightgbm\\basic.py:1190: UserWarning: categorical_feature in Dataset is overridden.\n",
      "New categorical_feature is [0, 1, 2, 3, 4, 5, 6]\n",
      "  'New categorical_feature is {}'.format(sorted(list(categorical_feature))))\n",
      "C:\\Users\\kipil\\Anaconda3\\lib\\site-packages\\lightgbm\\basic.py:752: UserWarning: categorical_feature in param dict is overridden.\n",
      "  warnings.warn('categorical_feature in param dict is overridden.')\n"
     ]
    },
    {
     "name": "stdout",
     "output_type": "stream",
     "text": [
      "Training until validation scores don't improve for 30 rounds.\n",
      "[10]\tvalid_0's rmse: 0.793257\n",
      "[20]\tvalid_0's rmse: 0.743659\n",
      "[30]\tvalid_0's rmse: 0.724379\n",
      "[40]\tvalid_0's rmse: 0.715535\n",
      "[50]\tvalid_0's rmse: 0.712142\n",
      "[60]\tvalid_0's rmse: 0.707474\n",
      "[70]\tvalid_0's rmse: 0.703732\n",
      "[80]\tvalid_0's rmse: 0.702653\n",
      "[90]\tvalid_0's rmse: 0.70625\n",
      "[100]\tvalid_0's rmse: 0.706039\n",
      "Early stopping, best iteration is:\n",
      "[74]\tvalid_0's rmse: 0.70239\n",
      "RMSE score: 0.6999069503343308\n"
     ]
    },
    {
     "name": "stderr",
     "output_type": "stream",
     "text": [
      "C:\\Users\\kipil\\Anaconda3\\lib\\site-packages\\lightgbm\\engine.py:116: UserWarning: Found `num_iterations` in params. Will use it instead of argument\n",
      "  warnings.warn(\"Found `{}` in params. Will use it instead of argument\".format(alias))\n",
      "C:\\Users\\kipil\\Anaconda3\\lib\\site-packages\\lightgbm\\basic.py:1190: UserWarning: categorical_feature in Dataset is overridden.\n",
      "New categorical_feature is [0, 1, 2, 3, 4, 5, 6]\n",
      "  'New categorical_feature is {}'.format(sorted(list(categorical_feature))))\n",
      "C:\\Users\\kipil\\Anaconda3\\lib\\site-packages\\lightgbm\\basic.py:1190: UserWarning: categorical_feature in Dataset is overridden.\n",
      "New categorical_feature is [0, 1, 2, 3, 4, 5, 6]\n",
      "  'New categorical_feature is {}'.format(sorted(list(categorical_feature))))\n",
      "C:\\Users\\kipil\\Anaconda3\\lib\\site-packages\\lightgbm\\basic.py:752: UserWarning: categorical_feature in param dict is overridden.\n",
      "  warnings.warn('categorical_feature in param dict is overridden.')\n"
     ]
    },
    {
     "name": "stdout",
     "output_type": "stream",
     "text": [
      "Training until validation scores don't improve for 30 rounds.\n",
      "[10]\tvalid_0's rmse: 0.778131\n",
      "[20]\tvalid_0's rmse: 0.720911\n",
      "[30]\tvalid_0's rmse: 0.698001\n",
      "[40]\tvalid_0's rmse: 0.6858\n",
      "[50]\tvalid_0's rmse: 0.67723\n",
      "[60]\tvalid_0's rmse: 0.666357\n",
      "[70]\tvalid_0's rmse: 0.662042\n",
      "[80]\tvalid_0's rmse: 0.660018\n",
      "[90]\tvalid_0's rmse: 0.655808\n",
      "[100]\tvalid_0's rmse: 0.653056\n",
      "[110]\tvalid_0's rmse: 0.651346\n",
      "[120]\tvalid_0's rmse: 0.648372\n",
      "[130]\tvalid_0's rmse: 0.645218\n",
      "[140]\tvalid_0's rmse: 0.644758\n",
      "[150]\tvalid_0's rmse: 0.641106\n",
      "[160]\tvalid_0's rmse: 0.641271\n",
      "[170]\tvalid_0's rmse: 0.63979\n",
      "[180]\tvalid_0's rmse: 0.637948\n",
      "[190]\tvalid_0's rmse: 0.636962\n",
      "[200]\tvalid_0's rmse: 0.636094\n",
      "[210]\tvalid_0's rmse: 0.633755\n",
      "[220]\tvalid_0's rmse: 0.633159\n",
      "[230]\tvalid_0's rmse: 0.633577\n",
      "[240]\tvalid_0's rmse: 0.631769\n",
      "[250]\tvalid_0's rmse: 0.631558\n",
      "[260]\tvalid_0's rmse: 0.630139\n",
      "[270]\tvalid_0's rmse: 0.628307\n",
      "[280]\tvalid_0's rmse: 0.628237\n",
      "[290]\tvalid_0's rmse: 0.62706\n",
      "[300]\tvalid_0's rmse: 0.625087\n",
      "[310]\tvalid_0's rmse: 0.623533\n",
      "[320]\tvalid_0's rmse: 0.623197\n",
      "[330]\tvalid_0's rmse: 0.623057\n",
      "[340]\tvalid_0's rmse: 0.621479\n",
      "[350]\tvalid_0's rmse: 0.620852\n",
      "[360]\tvalid_0's rmse: 0.621017\n",
      "[370]\tvalid_0's rmse: 0.620654\n",
      "[380]\tvalid_0's rmse: 0.619852\n",
      "[390]\tvalid_0's rmse: 0.619486\n",
      "[400]\tvalid_0's rmse: 0.619152\n",
      "[410]\tvalid_0's rmse: 0.618725\n",
      "[420]\tvalid_0's rmse: 0.618517\n",
      "[430]\tvalid_0's rmse: 0.618241\n",
      "[440]\tvalid_0's rmse: 0.617965\n",
      "[450]\tvalid_0's rmse: 0.617605\n",
      "[460]\tvalid_0's rmse: 0.616507\n",
      "[470]\tvalid_0's rmse: 0.616661\n",
      "[480]\tvalid_0's rmse: 0.616275\n",
      "[490]\tvalid_0's rmse: 0.616494\n",
      "[500]\tvalid_0's rmse: 0.616357\n",
      "Did not meet early stopping. Best iteration is:\n",
      "[482]\tvalid_0's rmse: 0.616185\n",
      "RMSE score: 0.6233810142498251\n"
     ]
    },
    {
     "name": "stderr",
     "output_type": "stream",
     "text": [
      "C:\\Users\\kipil\\Anaconda3\\lib\\site-packages\\lightgbm\\engine.py:116: UserWarning: Found `num_iterations` in params. Will use it instead of argument\n",
      "  warnings.warn(\"Found `{}` in params. Will use it instead of argument\".format(alias))\n",
      "C:\\Users\\kipil\\Anaconda3\\lib\\site-packages\\lightgbm\\basic.py:1190: UserWarning: categorical_feature in Dataset is overridden.\n",
      "New categorical_feature is [0, 1, 2, 3, 4, 5, 6]\n",
      "  'New categorical_feature is {}'.format(sorted(list(categorical_feature))))\n",
      "C:\\Users\\kipil\\Anaconda3\\lib\\site-packages\\lightgbm\\basic.py:1190: UserWarning: categorical_feature in Dataset is overridden.\n",
      "New categorical_feature is [0, 1, 2, 3, 4, 5, 6]\n",
      "  'New categorical_feature is {}'.format(sorted(list(categorical_feature))))\n",
      "C:\\Users\\kipil\\Anaconda3\\lib\\site-packages\\lightgbm\\basic.py:752: UserWarning: categorical_feature in param dict is overridden.\n",
      "  warnings.warn('categorical_feature in param dict is overridden.')\n"
     ]
    },
    {
     "name": "stdout",
     "output_type": "stream",
     "text": [
      "Training until validation scores don't improve for 30 rounds.\n",
      "[10]\tvalid_0's rmse: 1.24441\n",
      "[20]\tvalid_0's rmse: 1.15158\n",
      "[30]\tvalid_0's rmse: 1.11701\n",
      "[40]\tvalid_0's rmse: 1.1024\n",
      "[50]\tvalid_0's rmse: 1.08809\n",
      "[60]\tvalid_0's rmse: 1.07504\n",
      "[70]\tvalid_0's rmse: 1.06569\n",
      "[80]\tvalid_0's rmse: 1.067\n",
      "[90]\tvalid_0's rmse: 1.06089\n",
      "[100]\tvalid_0's rmse: 1.05551\n",
      "[110]\tvalid_0's rmse: 1.05384\n",
      "[120]\tvalid_0's rmse: 1.05181\n",
      "[130]\tvalid_0's rmse: 1.04825\n",
      "[140]\tvalid_0's rmse: 1.04313\n",
      "[150]\tvalid_0's rmse: 1.04092\n",
      "[160]\tvalid_0's rmse: 1.03807\n",
      "[170]\tvalid_0's rmse: 1.03716\n",
      "[180]\tvalid_0's rmse: 1.03478\n",
      "[190]\tvalid_0's rmse: 1.03394\n",
      "[200]\tvalid_0's rmse: 1.03116\n",
      "[210]\tvalid_0's rmse: 1.03023\n",
      "[220]\tvalid_0's rmse: 1.02707\n",
      "[230]\tvalid_0's rmse: 1.02477\n",
      "[240]\tvalid_0's rmse: 1.02343\n",
      "[250]\tvalid_0's rmse: 1.02168\n",
      "[260]\tvalid_0's rmse: 1.02035\n",
      "[270]\tvalid_0's rmse: 1.01803\n",
      "[280]\tvalid_0's rmse: 1.01716\n",
      "[290]\tvalid_0's rmse: 1.01531\n",
      "[300]\tvalid_0's rmse: 1.01383\n",
      "[310]\tvalid_0's rmse: 1.0113\n",
      "[320]\tvalid_0's rmse: 1.01065\n",
      "[330]\tvalid_0's rmse: 1.00897\n",
      "[340]\tvalid_0's rmse: 1.00793\n",
      "[350]\tvalid_0's rmse: 1.00763\n",
      "[360]\tvalid_0's rmse: 1.0073\n",
      "[370]\tvalid_0's rmse: 1.00488\n",
      "[380]\tvalid_0's rmse: 1.00494\n",
      "[390]\tvalid_0's rmse: 1.00424\n",
      "[400]\tvalid_0's rmse: 1.00163\n",
      "[410]\tvalid_0's rmse: 1.00068\n",
      "[420]\tvalid_0's rmse: 1.00011\n",
      "[430]\tvalid_0's rmse: 1.00078\n",
      "[440]\tvalid_0's rmse: 0.998749\n",
      "[450]\tvalid_0's rmse: 0.998223\n",
      "[460]\tvalid_0's rmse: 0.997885\n",
      "[470]\tvalid_0's rmse: 0.998314\n",
      "[480]\tvalid_0's rmse: 0.997136\n",
      "[490]\tvalid_0's rmse: 0.994817\n",
      "[500]\tvalid_0's rmse: 0.994219\n",
      "Did not meet early stopping. Best iteration is:\n",
      "[497]\tvalid_0's rmse: 0.994207\n",
      "RMSE score: 0.9889956795947848\n"
     ]
    }
   ],
   "source": [
    "params = {\n",
    "    'boosting_type': 'gbdt',\n",
    "    'objective': 'rmse',\n",
    "    'verbose': 10,\n",
    "    'num_iterations': 500\n",
    "}\n",
    "categorical_columns = list(range(7))\n",
    "cv = TimeSeriesSplit(n_splits=5)\n",
    "\n",
    "gbm, scores = cross_val_score_lgb(X, y, cv, params, categorical_columns)"
   ]
  },
  {
   "cell_type": "code",
   "execution_count": 10,
   "metadata": {},
   "outputs": [
    {
     "data": {
      "text/plain": [
       "[0.6644034323287625,\n",
       " 0.4910133320176178,\n",
       " 0.6999069503343308,\n",
       " 0.6233810142498251,\n",
       " 0.9889956795947848]"
      ]
     },
     "execution_count": 10,
     "metadata": {},
     "output_type": "execute_result"
    }
   ],
   "source": [
    "scores"
   ]
  },
  {
   "cell_type": "code",
   "execution_count": 11,
   "metadata": {},
   "outputs": [
    {
     "data": {
      "image/png": "[encoded data removed]",
      "text/plain": [
       "<Figure size 864x648 with 1 Axes>"
      ]
     },
     "metadata": {
      "needs_background": "light"
     },
     "output_type": "display_data"
    }
   ],
   "source": [
    "lgbmMetrics = pd.concat([pd.Series(columns), pd.Series(gbm.feature_importance())], axis=1)\n",
    "lgbmMetrics.columns = ['Name', 'importance']\n",
    "metrics_sorted = lgbmMetrics.sort_values(by='importance', ascending=False)\n",
    "g = sns.barplot(x=\"importance\", y=\"Name\", data=metrics_sorted)\n",
    "g.figure.set_size_inches(12, 9)"
   ]
  }
 ],
 "metadata": {
  "kernelspec": {
   "display_name": "Python 3",
   "language": "python",
   "name": "python3"
  },
  "language_info": {
   "codemirror_mode": {
    "name": "ipython",
    "version": 3
   },
   "file_extension": ".py",
   "mimetype": "text/x-python",
   "name": "python",
   "nbconvert_exporter": "python",
   "pygments_lexer": "ipython3",
   "version": "3.6.6"
  }
 },
 "nbformat": 4,
 "nbformat_minor": 2
}
