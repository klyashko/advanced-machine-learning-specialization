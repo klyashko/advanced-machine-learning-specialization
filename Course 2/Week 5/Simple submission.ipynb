{
 "cells": [
  {
   "cell_type": "code",
   "execution_count": 1,
   "metadata": {},
   "outputs": [],
   "source": [
    "%matplotlib inline\n",
    "import pandas as pd\n",
    "import numpy as np\n",
    "import lightgbm as lgb\n",
    "\n",
    "from sklearn.model_selection import cross_val_score, TimeSeriesSplit, train_test_split\n",
    "from sklearn.metrics import mean_squared_error\n",
    "from lightgbm import LGBMRegressor\n",
    "\n",
    "import matplotlib.pyplot as plt\n",
    "\n",
    "DATA = 'data/'"
   ]
  },
  {
   "cell_type": "code",
   "execution_count": 3,
   "metadata": {},
   "outputs": [],
   "source": [
    "train_df = pd.read_csv(DATA + 'sales_train.csv.gz')\n",
    "test_df = pd.read_csv(DATA + 'test.csv.gz')"
   ]
  },
  {
   "cell_type": "code",
   "execution_count": 6,
   "metadata": {},
   "outputs": [],
   "source": [
    "items_df = pd.read_csv(DATA + 'items.csv')\n",
    "item_categories_df = pd.read_csv(DATA + 'item_categories.csv')\n",
    "shops_df = pd.read_csv(DATA + 'shops.csv')"
   ]
  },
  {
   "cell_type": "code",
   "execution_count": 5,
   "metadata": {},
   "outputs": [
    {
     "data": {
      "text/html": [
       "<div>\n",
       "<style scoped>\n",
       "    .dataframe tbody tr th:only-of-type {\n",
       "        vertical-align: middle;\n",
       "    }\n",
       "\n",
       "    .dataframe tbody tr th {\n",
       "        vertical-align: top;\n",
       "    }\n",
       "\n",
       "    .dataframe thead th {\n",
       "        text-align: right;\n",
       "    }\n",
       "</style>\n",
       "<table border=\"1\" class=\"dataframe\">\n",
       "  <thead>\n",
       "    <tr style=\"text-align: right;\">\n",
       "      <th></th>\n",
       "      <th>date</th>\n",
       "      <th>date_block_num</th>\n",
       "      <th>shop_id</th>\n",
       "      <th>item_id</th>\n",
       "      <th>item_price</th>\n",
       "      <th>item_cnt_day</th>\n",
       "    </tr>\n",
       "  </thead>\n",
       "  <tbody>\n",
       "    <tr>\n",
       "      <th>0</th>\n",
       "      <td>02.01.2013</td>\n",
       "      <td>0</td>\n",
       "      <td>59</td>\n",
       "      <td>22154</td>\n",
       "      <td>999.00</td>\n",
       "      <td>1.0</td>\n",
       "    </tr>\n",
       "    <tr>\n",
       "      <th>1</th>\n",
       "      <td>03.01.2013</td>\n",
       "      <td>0</td>\n",
       "      <td>25</td>\n",
       "      <td>2552</td>\n",
       "      <td>899.00</td>\n",
       "      <td>1.0</td>\n",
       "    </tr>\n",
       "    <tr>\n",
       "      <th>2</th>\n",
       "      <td>05.01.2013</td>\n",
       "      <td>0</td>\n",
       "      <td>25</td>\n",
       "      <td>2552</td>\n",
       "      <td>899.00</td>\n",
       "      <td>-1.0</td>\n",
       "    </tr>\n",
       "    <tr>\n",
       "      <th>3</th>\n",
       "      <td>06.01.2013</td>\n",
       "      <td>0</td>\n",
       "      <td>25</td>\n",
       "      <td>2554</td>\n",
       "      <td>1709.05</td>\n",
       "      <td>1.0</td>\n",
       "    </tr>\n",
       "    <tr>\n",
       "      <th>4</th>\n",
       "      <td>15.01.2013</td>\n",
       "      <td>0</td>\n",
       "      <td>25</td>\n",
       "      <td>2555</td>\n",
       "      <td>1099.00</td>\n",
       "      <td>1.0</td>\n",
       "    </tr>\n",
       "  </tbody>\n",
       "</table>\n",
       "</div>"
      ],
      "text/plain": [
       "         date  date_block_num  shop_id  item_id  item_price  item_cnt_day\n",
       "0  02.01.2013               0       59    22154      999.00           1.0\n",
       "1  03.01.2013               0       25     2552      899.00           1.0\n",
       "2  05.01.2013               0       25     2552      899.00          -1.0\n",
       "3  06.01.2013               0       25     2554     1709.05           1.0\n",
       "4  15.01.2013               0       25     2555     1099.00           1.0"
      ]
     },
     "execution_count": 5,
     "metadata": {},
     "output_type": "execute_result"
    }
   ],
   "source": [
    "train_df.head()"
   ]
  },
  {
   "cell_type": "code",
   "execution_count": 7,
   "metadata": {},
   "outputs": [
    {
     "data": {
      "text/html": [
       "<div>\n",
       "<style scoped>\n",
       "    .dataframe tbody tr th:only-of-type {\n",
       "        vertical-align: middle;\n",
       "    }\n",
       "\n",
       "    .dataframe tbody tr th {\n",
       "        vertical-align: top;\n",
       "    }\n",
       "\n",
       "    .dataframe thead th {\n",
       "        text-align: right;\n",
       "    }\n",
       "</style>\n",
       "<table border=\"1\" class=\"dataframe\">\n",
       "  <thead>\n",
       "    <tr style=\"text-align: right;\">\n",
       "      <th></th>\n",
       "      <th>item_name</th>\n",
       "      <th>item_id</th>\n",
       "      <th>item_category_id</th>\n",
       "    </tr>\n",
       "  </thead>\n",
       "  <tbody>\n",
       "    <tr>\n",
       "      <th>0</th>\n",
       "      <td>! ВО ВЛАСТИ НАВАЖДЕНИЯ (ПЛАСТ.)         D</td>\n",
       "      <td>0</td>\n",
       "      <td>40</td>\n",
       "    </tr>\n",
       "    <tr>\n",
       "      <th>1</th>\n",
       "      <td>!ABBYY FineReader 12 Professional Edition Full...</td>\n",
       "      <td>1</td>\n",
       "      <td>76</td>\n",
       "    </tr>\n",
       "    <tr>\n",
       "      <th>2</th>\n",
       "      <td>***В ЛУЧАХ СЛАВЫ   (UNV)                    D</td>\n",
       "      <td>2</td>\n",
       "      <td>40</td>\n",
       "    </tr>\n",
       "    <tr>\n",
       "      <th>3</th>\n",
       "      <td>***ГОЛУБАЯ ВОЛНА  (Univ)                      D</td>\n",
       "      <td>3</td>\n",
       "      <td>40</td>\n",
       "    </tr>\n",
       "    <tr>\n",
       "      <th>4</th>\n",
       "      <td>***КОРОБКА (СТЕКЛО)                       D</td>\n",
       "      <td>4</td>\n",
       "      <td>40</td>\n",
       "    </tr>\n",
       "  </tbody>\n",
       "</table>\n",
       "</div>"
      ],
      "text/plain": [
       "                                           item_name  item_id  \\\n",
       "0          ! ВО ВЛАСТИ НАВАЖДЕНИЯ (ПЛАСТ.)         D        0   \n",
       "1  !ABBYY FineReader 12 Professional Edition Full...        1   \n",
       "2      ***В ЛУЧАХ СЛАВЫ   (UNV)                    D        2   \n",
       "3    ***ГОЛУБАЯ ВОЛНА  (Univ)                      D        3   \n",
       "4        ***КОРОБКА (СТЕКЛО)                       D        4   \n",
       "\n",
       "   item_category_id  \n",
       "0                40  \n",
       "1                76  \n",
       "2                40  \n",
       "3                40  \n",
       "4                40  "
      ]
     },
     "execution_count": 7,
     "metadata": {},
     "output_type": "execute_result"
    },
    {
     "data": {
      "text/html": [
       "<div>\n",
       "<style scoped>\n",
       "    .dataframe tbody tr th:only-of-type {\n",
       "        vertical-align: middle;\n",
       "    }\n",
       "\n",
       "    .dataframe tbody tr th {\n",
       "        vertical-align: top;\n",
       "    }\n",
       "\n",
       "    .dataframe thead th {\n",
       "        text-align: right;\n",
       "    }\n",
       "</style>\n",
       "<table border=\"1\" class=\"dataframe\">\n",
       "  <thead>\n",
       "    <tr style=\"text-align: right;\">\n",
       "      <th></th>\n",
       "      <th>item_category_name</th>\n",
       "      <th>item_category_id</th>\n",
       "    </tr>\n",
       "  </thead>\n",
       "  <tbody>\n",
       "    <tr>\n",
       "      <th>0</th>\n",
       "      <td>PC - Гарнитуры/Наушники</td>\n",
       "      <td>0</td>\n",
       "    </tr>\n",
       "    <tr>\n",
       "      <th>1</th>\n",
       "      <td>Аксессуары - PS2</td>\n",
       "      <td>1</td>\n",
       "    </tr>\n",
       "    <tr>\n",
       "      <th>2</th>\n",
       "      <td>Аксессуары - PS3</td>\n",
       "      <td>2</td>\n",
       "    </tr>\n",
       "    <tr>\n",
       "      <th>3</th>\n",
       "      <td>Аксессуары - PS4</td>\n",
       "      <td>3</td>\n",
       "    </tr>\n",
       "    <tr>\n",
       "      <th>4</th>\n",
       "      <td>Аксессуары - PSP</td>\n",
       "      <td>4</td>\n",
       "    </tr>\n",
       "  </tbody>\n",
       "</table>\n",
       "</div>"
      ],
      "text/plain": [
       "        item_category_name  item_category_id\n",
       "0  PC - Гарнитуры/Наушники                 0\n",
       "1         Аксессуары - PS2                 1\n",
       "2         Аксессуары - PS3                 2\n",
       "3         Аксессуары - PS4                 3\n",
       "4         Аксессуары - PSP                 4"
      ]
     },
     "execution_count": 7,
     "metadata": {},
     "output_type": "execute_result"
    },
    {
     "data": {
      "text/html": [
       "<div>\n",
       "<style scoped>\n",
       "    .dataframe tbody tr th:only-of-type {\n",
       "        vertical-align: middle;\n",
       "    }\n",
       "\n",
       "    .dataframe tbody tr th {\n",
       "        vertical-align: top;\n",
       "    }\n",
       "\n",
       "    .dataframe thead th {\n",
       "        text-align: right;\n",
       "    }\n",
       "</style>\n",
       "<table border=\"1\" class=\"dataframe\">\n",
       "  <thead>\n",
       "    <tr style=\"text-align: right;\">\n",
       "      <th></th>\n",
       "      <th>shop_name</th>\n",
       "      <th>shop_id</th>\n",
       "    </tr>\n",
       "  </thead>\n",
       "  <tbody>\n",
       "    <tr>\n",
       "      <th>0</th>\n",
       "      <td>!Якутск Орджоникидзе, 56 фран</td>\n",
       "      <td>0</td>\n",
       "    </tr>\n",
       "    <tr>\n",
       "      <th>1</th>\n",
       "      <td>!Якутск ТЦ \"Центральный\" фран</td>\n",
       "      <td>1</td>\n",
       "    </tr>\n",
       "    <tr>\n",
       "      <th>2</th>\n",
       "      <td>Адыгея ТЦ \"Мега\"</td>\n",
       "      <td>2</td>\n",
       "    </tr>\n",
       "    <tr>\n",
       "      <th>3</th>\n",
       "      <td>Балашиха ТРК \"Октябрь-Киномир\"</td>\n",
       "      <td>3</td>\n",
       "    </tr>\n",
       "    <tr>\n",
       "      <th>4</th>\n",
       "      <td>Волжский ТЦ \"Волга Молл\"</td>\n",
       "      <td>4</td>\n",
       "    </tr>\n",
       "  </tbody>\n",
       "</table>\n",
       "</div>"
      ],
      "text/plain": [
       "                        shop_name  shop_id\n",
       "0   !Якутск Орджоникидзе, 56 фран        0\n",
       "1   !Якутск ТЦ \"Центральный\" фран        1\n",
       "2                Адыгея ТЦ \"Мега\"        2\n",
       "3  Балашиха ТРК \"Октябрь-Киномир\"        3\n",
       "4        Волжский ТЦ \"Волга Молл\"        4"
      ]
     },
     "execution_count": 7,
     "metadata": {},
     "output_type": "execute_result"
    }
   ],
   "source": [
    "items_df.head()\n",
    "item_categories_df.head()\n",
    "shops_df.head()"
   ]
  },
  {
   "cell_type": "code",
   "execution_count": 65,
   "metadata": {},
   "outputs": [],
   "source": [
    "# columns = ['shop_id', 'item_id', 'item_price', 'item_category_id']\n",
    "columns = ['shop_id', 'item_id', 'item_category_id']"
   ]
  },
  {
   "cell_type": "code",
   "execution_count": 66,
   "metadata": {},
   "outputs": [],
   "source": [
    "X_train_df = train_df.merge(items_df, how=\"left\", on='item_id')[columns]"
   ]
  },
  {
   "cell_type": "code",
   "execution_count": 67,
   "metadata": {},
   "outputs": [
    {
     "data": {
      "text/html": [
       "<div>\n",
       "<style scoped>\n",
       "    .dataframe tbody tr th:only-of-type {\n",
       "        vertical-align: middle;\n",
       "    }\n",
       "\n",
       "    .dataframe tbody tr th {\n",
       "        vertical-align: top;\n",
       "    }\n",
       "\n",
       "    .dataframe thead th {\n",
       "        text-align: right;\n",
       "    }\n",
       "</style>\n",
       "<table border=\"1\" class=\"dataframe\">\n",
       "  <thead>\n",
       "    <tr style=\"text-align: right;\">\n",
       "      <th></th>\n",
       "      <th>shop_id</th>\n",
       "      <th>item_id</th>\n",
       "      <th>item_category_id</th>\n",
       "    </tr>\n",
       "  </thead>\n",
       "  <tbody>\n",
       "    <tr>\n",
       "      <th>0</th>\n",
       "      <td>59</td>\n",
       "      <td>22154</td>\n",
       "      <td>37</td>\n",
       "    </tr>\n",
       "    <tr>\n",
       "      <th>1</th>\n",
       "      <td>25</td>\n",
       "      <td>2552</td>\n",
       "      <td>58</td>\n",
       "    </tr>\n",
       "    <tr>\n",
       "      <th>2</th>\n",
       "      <td>25</td>\n",
       "      <td>2552</td>\n",
       "      <td>58</td>\n",
       "    </tr>\n",
       "    <tr>\n",
       "      <th>3</th>\n",
       "      <td>25</td>\n",
       "      <td>2554</td>\n",
       "      <td>58</td>\n",
       "    </tr>\n",
       "    <tr>\n",
       "      <th>4</th>\n",
       "      <td>25</td>\n",
       "      <td>2555</td>\n",
       "      <td>56</td>\n",
       "    </tr>\n",
       "  </tbody>\n",
       "</table>\n",
       "</div>"
      ],
      "text/plain": [
       "   shop_id  item_id  item_category_id\n",
       "0       59    22154                37\n",
       "1       25     2552                58\n",
       "2       25     2552                58\n",
       "3       25     2554                58\n",
       "4       25     2555                56"
      ]
     },
     "execution_count": 67,
     "metadata": {},
     "output_type": "execute_result"
    }
   ],
   "source": [
    "X_train_df.head()"
   ]
  },
  {
   "cell_type": "code",
   "execution_count": 68,
   "metadata": {},
   "outputs": [],
   "source": [
    "cv = TimeSeriesSplit(n_splits=5)"
   ]
  },
  {
   "cell_type": "code",
   "execution_count": 69,
   "metadata": {},
   "outputs": [],
   "source": [
    "X = X_train_df[train_df.item_cnt_day.between(0, 20)].values\n",
    "y = train_df[train_df.item_cnt_day.between(0, 20)].item_cnt_day.values"
   ]
  },
  {
   "cell_type": "code",
   "execution_count": 99,
   "metadata": {},
   "outputs": [],
   "source": [
    "def cross_val_score_lgb(X, y, cv, params, categorical_feature):\n",
    "\n",
    "    scores = []\n",
    "\n",
    "    for train_idx, valid_idx in cv.split(X, y):\n",
    "\n",
    "        X_train, y_train = X[train_idx], y[train_idx]\n",
    "        X_valid, y_valid = X[valid_idx], y[valid_idx]\n",
    "\n",
    "        lgb_train = lgb.Dataset(X_train, y_train)\n",
    "        lgb_eval = lgb.Dataset(X_valid, y_valid, reference=lgb_train)\n",
    "\n",
    "        gbm = lgb.train(\n",
    "            params,\n",
    "            lgb_train,\n",
    "            valid_sets=lgb_eval,\n",
    "            early_stopping_rounds=30,\n",
    "            verbose_eval=10,\n",
    "            categorical_feature=categorical_feature)\n",
    "\n",
    "        y_pred = gbm.predict(X_valid, num_iteration=gbm.best_iteration)\n",
    "        score = mean_squared_error(y_valid, y_pred)**0.5\n",
    "        scores.append(score)\n",
    "        print(\"RMSE score:\", score)\n",
    "\n",
    "    return scores"
   ]
  },
  {
   "cell_type": "code",
   "execution_count": 85,
   "metadata": {
    "scrolled": true
   },
   "outputs": [
    {
     "name": "stderr",
     "output_type": "stream",
     "text": [
      "C:\\Users\\kipil\\Anaconda3\\lib\\site-packages\\lightgbm\\basic.py:1190: UserWarning: categorical_feature in Dataset is overridden.\n",
      "New categorical_feature is [0, 1, 2]\n",
      "  'New categorical_feature is {}'.format(sorted(list(categorical_feature))))\n",
      "C:\\Users\\kipil\\Anaconda3\\lib\\site-packages\\lightgbm\\basic.py:752: UserWarning: categorical_feature in param dict is overridden.\n",
      "  warnings.warn('categorical_feature in param dict is overridden.')\n"
     ]
    },
    {
     "name": "stdout",
     "output_type": "stream",
     "text": [
      "Training until validation scores don't improve for 30 rounds.\n",
      "[10]\tvalid_0's rmse: 0.900844\n",
      "[20]\tvalid_0's rmse: 0.901138\n",
      "[30]\tvalid_0's rmse: 0.904578\n",
      "[40]\tvalid_0's rmse: 0.907524\n",
      "Early stopping, best iteration is:\n",
      "[15]\tvalid_0's rmse: 0.899118\n",
      "RMSE score: 0.8991435187579074\n"
     ]
    },
    {
     "name": "stderr",
     "output_type": "stream",
     "text": [
      "C:\\Users\\kipil\\Anaconda3\\lib\\site-packages\\lightgbm\\basic.py:1190: UserWarning: categorical_feature in Dataset is overridden.\n",
      "New categorical_feature is [0, 1, 2]\n",
      "  'New categorical_feature is {}'.format(sorted(list(categorical_feature))))\n",
      "C:\\Users\\kipil\\Anaconda3\\lib\\site-packages\\lightgbm\\basic.py:752: UserWarning: categorical_feature in param dict is overridden.\n",
      "  warnings.warn('categorical_feature in param dict is overridden.')\n"
     ]
    },
    {
     "name": "stdout",
     "output_type": "stream",
     "text": [
      "Training until validation scores don't improve for 30 rounds.\n",
      "[10]\tvalid_0's rmse: 0.892401\n",
      "[20]\tvalid_0's rmse: 0.941754\n",
      "[30]\tvalid_0's rmse: 0.98391\n",
      "Early stopping, best iteration is:\n",
      "[7]\tvalid_0's rmse: 0.884064\n",
      "RMSE score: 0.8840526855367768\n"
     ]
    },
    {
     "name": "stderr",
     "output_type": "stream",
     "text": [
      "C:\\Users\\kipil\\Anaconda3\\lib\\site-packages\\lightgbm\\basic.py:1190: UserWarning: categorical_feature in Dataset is overridden.\n",
      "New categorical_feature is [0, 1, 2]\n",
      "  'New categorical_feature is {}'.format(sorted(list(categorical_feature))))\n",
      "C:\\Users\\kipil\\Anaconda3\\lib\\site-packages\\lightgbm\\basic.py:752: UserWarning: categorical_feature in param dict is overridden.\n",
      "  warnings.warn('categorical_feature in param dict is overridden.')\n"
     ]
    },
    {
     "name": "stdout",
     "output_type": "stream",
     "text": [
      "Training until validation scores don't improve for 30 rounds.\n",
      "[10]\tvalid_0's rmse: 0.797692\n",
      "[20]\tvalid_0's rmse: 0.830605\n",
      "[30]\tvalid_0's rmse: 0.858965\n",
      "Early stopping, best iteration is:\n",
      "[8]\tvalid_0's rmse: 0.794545\n",
      "RMSE score: 0.7767708807387204\n"
     ]
    },
    {
     "name": "stderr",
     "output_type": "stream",
     "text": [
      "C:\\Users\\kipil\\Anaconda3\\lib\\site-packages\\lightgbm\\basic.py:1190: UserWarning: categorical_feature in Dataset is overridden.\n",
      "New categorical_feature is [0, 1, 2]\n",
      "  'New categorical_feature is {}'.format(sorted(list(categorical_feature))))\n",
      "C:\\Users\\kipil\\Anaconda3\\lib\\site-packages\\lightgbm\\basic.py:752: UserWarning: categorical_feature in param dict is overridden.\n",
      "  warnings.warn('categorical_feature in param dict is overridden.')\n"
     ]
    },
    {
     "name": "stdout",
     "output_type": "stream",
     "text": [
      "Training until validation scores don't improve for 30 rounds.\n",
      "[10]\tvalid_0's rmse: 0.954302\n",
      "[20]\tvalid_0's rmse: 0.95146\n",
      "[30]\tvalid_0's rmse: 0.955493\n",
      "[40]\tvalid_0's rmse: 0.958034\n",
      "Early stopping, best iteration is:\n",
      "[14]\tvalid_0's rmse: 0.950631\n",
      "RMSE score: 0.9506310842309332\n"
     ]
    },
    {
     "name": "stderr",
     "output_type": "stream",
     "text": [
      "C:\\Users\\kipil\\Anaconda3\\lib\\site-packages\\lightgbm\\basic.py:1190: UserWarning: categorical_feature in Dataset is overridden.\n",
      "New categorical_feature is [0, 1, 2]\n",
      "  'New categorical_feature is {}'.format(sorted(list(categorical_feature))))\n",
      "C:\\Users\\kipil\\Anaconda3\\lib\\site-packages\\lightgbm\\basic.py:752: UserWarning: categorical_feature in param dict is overridden.\n",
      "  warnings.warn('categorical_feature in param dict is overridden.')\n"
     ]
    },
    {
     "name": "stdout",
     "output_type": "stream",
     "text": [
      "Training until validation scores don't improve for 30 rounds.\n",
      "[10]\tvalid_0's rmse: 0.853295\n",
      "[20]\tvalid_0's rmse: 0.862271\n",
      "[30]\tvalid_0's rmse: 0.872565\n",
      "[40]\tvalid_0's rmse: 0.877711\n",
      "Early stopping, best iteration is:\n",
      "[11]\tvalid_0's rmse: 0.852643\n",
      "RMSE score: 0.8505077947947103\n"
     ]
    }
   ],
   "source": [
    "params = {\n",
    "    'boosting_type': 'gbdt',\n",
    "    'objective': 'rmse',\n",
    "    'verbose': 10\n",
    "}\n",
    "scores = cross_val_score_lgb(X, y, cv, params, [0, 1, 2])"
   ]
  },
  {
   "cell_type": "code",
   "execution_count": 101,
   "metadata": {},
   "outputs": [
    {
     "data": {
      "text/plain": [
       "[0.9105078055257387,\n",
       " 0.8875610391910044,\n",
       " 0.7622966866334614,\n",
       " 0.940692447985174,\n",
       " 0.8478149495025223]"
      ]
     },
     "execution_count": 101,
     "metadata": {},
     "output_type": "execute_result"
    }
   ],
   "source": [
    "scores"
   ]
  },
  {
   "cell_type": "code",
   "execution_count": 64,
   "metadata": {},
   "outputs": [
    {
     "data": {
      "text/plain": [
       "[0.8974239382463092,\n",
       " 0.8801299760857227,\n",
       " 0.7718775002158844,\n",
       " 0.9419799457872929,\n",
       " 0.8462634747649465]"
      ]
     },
     "execution_count": 64,
     "metadata": {},
     "output_type": "execute_result"
    }
   ],
   "source": [
    "scores"
   ]
  },
  {
   "cell_type": "code",
   "execution_count": 105,
   "metadata": {},
   "outputs": [],
   "source": [
    "X_train_df['target'] = y"
   ]
  },
  {
   "cell_type": "code",
   "execution_count": null,
   "metadata": {},
   "outputs": [],
   "source": [
    "X_train_df.groupby([])"
   ]
  },
  {
   "cell_type": "code",
   "execution_count": 98,
   "metadata": {},
   "outputs": [],
   "source": [
    "X = X_train_df.values"
   ]
  },
  {
   "cell_type": "code",
   "execution_count": 100,
   "metadata": {},
   "outputs": [
    {
     "name": "stderr",
     "output_type": "stream",
     "text": [
      "C:\\Users\\kipil\\Anaconda3\\lib\\site-packages\\lightgbm\\basic.py:1190: UserWarning: categorical_feature in Dataset is overridden.\n",
      "New categorical_feature is [0, 1, 2, 3]\n",
      "  'New categorical_feature is {}'.format(sorted(list(categorical_feature))))\n",
      "C:\\Users\\kipil\\Anaconda3\\lib\\site-packages\\lightgbm\\basic.py:752: UserWarning: categorical_feature in param dict is overridden.\n",
      "  warnings.warn('categorical_feature in param dict is overridden.')\n"
     ]
    },
    {
     "name": "stdout",
     "output_type": "stream",
     "text": [
      "Training until validation scores don't improve for 30 rounds.\n",
      "[10]\tvalid_0's rmse: 0.912067\n",
      "[20]\tvalid_0's rmse: 0.914769\n",
      "[30]\tvalid_0's rmse: 0.92084\n",
      "[40]\tvalid_0's rmse: 0.922985\n",
      "Early stopping, best iteration is:\n",
      "[13]\tvalid_0's rmse: 0.910512\n",
      "RMSE score: 0.9105078055257387\n"
     ]
    },
    {
     "name": "stderr",
     "output_type": "stream",
     "text": [
      "C:\\Users\\kipil\\Anaconda3\\lib\\site-packages\\lightgbm\\basic.py:1190: UserWarning: categorical_feature in Dataset is overridden.\n",
      "New categorical_feature is [0, 1, 2, 3]\n",
      "  'New categorical_feature is {}'.format(sorted(list(categorical_feature))))\n",
      "C:\\Users\\kipil\\Anaconda3\\lib\\site-packages\\lightgbm\\basic.py:752: UserWarning: categorical_feature in param dict is overridden.\n",
      "  warnings.warn('categorical_feature in param dict is overridden.')\n"
     ]
    },
    {
     "name": "stdout",
     "output_type": "stream",
     "text": [
      "Training until validation scores don't improve for 30 rounds.\n",
      "[10]\tvalid_0's rmse: 0.897394\n",
      "[20]\tvalid_0's rmse: 0.957531\n",
      "[30]\tvalid_0's rmse: 1.0003\n",
      "Early stopping, best iteration is:\n",
      "[6]\tvalid_0's rmse: 0.887561\n",
      "RMSE score: 0.8875610391910044\n"
     ]
    },
    {
     "name": "stderr",
     "output_type": "stream",
     "text": [
      "C:\\Users\\kipil\\Anaconda3\\lib\\site-packages\\lightgbm\\basic.py:1190: UserWarning: categorical_feature in Dataset is overridden.\n",
      "New categorical_feature is [0, 1, 2, 3]\n",
      "  'New categorical_feature is {}'.format(sorted(list(categorical_feature))))\n",
      "C:\\Users\\kipil\\Anaconda3\\lib\\site-packages\\lightgbm\\basic.py:752: UserWarning: categorical_feature in param dict is overridden.\n",
      "  warnings.warn('categorical_feature in param dict is overridden.')\n"
     ]
    },
    {
     "name": "stdout",
     "output_type": "stream",
     "text": [
      "Training until validation scores don't improve for 30 rounds.\n",
      "[10]\tvalid_0's rmse: 0.767237\n",
      "[20]\tvalid_0's rmse: 0.777778\n",
      "[30]\tvalid_0's rmse: 0.799185\n",
      "[40]\tvalid_0's rmse: 0.809928\n",
      "Early stopping, best iteration is:\n",
      "[12]\tvalid_0's rmse: 0.76603\n",
      "RMSE score: 0.7622966866334614\n"
     ]
    },
    {
     "name": "stderr",
     "output_type": "stream",
     "text": [
      "C:\\Users\\kipil\\Anaconda3\\lib\\site-packages\\lightgbm\\basic.py:1190: UserWarning: categorical_feature in Dataset is overridden.\n",
      "New categorical_feature is [0, 1, 2, 3]\n",
      "  'New categorical_feature is {}'.format(sorted(list(categorical_feature))))\n",
      "C:\\Users\\kipil\\Anaconda3\\lib\\site-packages\\lightgbm\\basic.py:752: UserWarning: categorical_feature in param dict is overridden.\n",
      "  warnings.warn('categorical_feature in param dict is overridden.')\n"
     ]
    },
    {
     "name": "stdout",
     "output_type": "stream",
     "text": [
      "Training until validation scores don't improve for 30 rounds.\n",
      "[10]\tvalid_0's rmse: 0.95319\n",
      "[20]\tvalid_0's rmse: 0.941134\n",
      "[30]\tvalid_0's rmse: 0.941475\n",
      "[40]\tvalid_0's rmse: 0.94259\n",
      "[50]\tvalid_0's rmse: 0.943327\n",
      "Early stopping, best iteration is:\n",
      "[23]\tvalid_0's rmse: 0.940694\n",
      "RMSE score: 0.940692447985174\n"
     ]
    },
    {
     "name": "stderr",
     "output_type": "stream",
     "text": [
      "C:\\Users\\kipil\\Anaconda3\\lib\\site-packages\\lightgbm\\basic.py:1190: UserWarning: categorical_feature in Dataset is overridden.\n",
      "New categorical_feature is [0, 1, 2, 3]\n",
      "  'New categorical_feature is {}'.format(sorted(list(categorical_feature))))\n",
      "C:\\Users\\kipil\\Anaconda3\\lib\\site-packages\\lightgbm\\basic.py:752: UserWarning: categorical_feature in param dict is overridden.\n",
      "  warnings.warn('categorical_feature in param dict is overridden.')\n"
     ]
    },
    {
     "name": "stdout",
     "output_type": "stream",
     "text": [
      "Training until validation scores don't improve for 30 rounds.\n",
      "[10]\tvalid_0's rmse: 0.848614\n",
      "[20]\tvalid_0's rmse: 0.856032\n",
      "[30]\tvalid_0's rmse: 0.86598\n",
      "[40]\tvalid_0's rmse: 0.870701\n",
      "Early stopping, best iteration is:\n",
      "[11]\tvalid_0's rmse: 0.848241\n",
      "RMSE score: 0.8478149495025223\n"
     ]
    }
   ],
   "source": [
    "scores = cross_val_score_lgb(X, y, cv, params, [0, 1, 2, 3])"
   ]
  },
  {
   "cell_type": "code",
   "execution_count": null,
   "metadata": {},
   "outputs": [],
   "source": []
  },
  {
   "cell_type": "code",
   "execution_count": 89,
   "metadata": {},
   "outputs": [],
   "source": [
    "X_test = test_df.merge(items_df, how='left', on='item_id')[columns].values"
   ]
  },
  {
   "cell_type": "code",
   "execution_count": 93,
   "metadata": {},
   "outputs": [],
   "source": [
    "X_train, X_valid, y_train, y_valid = train_test_split(X, y, shuffle=False, test_size=0.2)"
   ]
  },
  {
   "cell_type": "code",
   "execution_count": 94,
   "metadata": {},
   "outputs": [
    {
     "name": "stderr",
     "output_type": "stream",
     "text": [
      "C:\\Users\\kipil\\Anaconda3\\lib\\site-packages\\lightgbm\\basic.py:1190: UserWarning: categorical_feature in Dataset is overridden.\n",
      "New categorical_feature is [0, 1, 2]\n",
      "  'New categorical_feature is {}'.format(sorted(list(categorical_feature))))\n",
      "C:\\Users\\kipil\\Anaconda3\\lib\\site-packages\\lightgbm\\basic.py:752: UserWarning: categorical_feature in param dict is overridden.\n",
      "  warnings.warn('categorical_feature in param dict is overridden.')\n"
     ]
    },
    {
     "name": "stdout",
     "output_type": "stream",
     "text": [
      "Training until validation scores don't improve for 30 rounds.\n",
      "[10]\tvalid_0's rmse: 0.837778\n",
      "[20]\tvalid_0's rmse: 0.840879\n",
      "[30]\tvalid_0's rmse: 0.849376\n",
      "[40]\tvalid_0's rmse: 0.853351\n",
      "Early stopping, best iteration is:\n",
      "[13]\tvalid_0's rmse: 0.835996\n"
     ]
    }
   ],
   "source": [
    "lgb_train = lgb.Dataset(X_train, y_train)\n",
    "\n",
    "lgb_eval = lgb.Dataset(X_valid, y_valid, reference=lgb_train)\n",
    "\n",
    "gbm = lgb.train(\n",
    "    params,\n",
    "    lgb_train,\n",
    "    valid_sets=lgb_eval,\n",
    "    early_stopping_rounds=30,\n",
    "    verbose_eval=10,\n",
    "    categorical_feature=[0, 1, 2])"
   ]
  },
  {
   "cell_type": "code",
   "execution_count": 90,
   "metadata": {},
   "outputs": [],
   "source": [
    "y_pred = model.predict(X_test, num_iteration=gbm.best_iteration)"
   ]
  },
  {
   "cell_type": "code",
   "execution_count": 91,
   "metadata": {},
   "outputs": [],
   "source": [
    "submissions_df = pd.read_csv(DATA + \"sample_submission.csv.gz\")"
   ]
  },
  {
   "cell_type": "code",
   "execution_count": 92,
   "metadata": {},
   "outputs": [],
   "source": [
    "submissions_df.item_cnt_month = y_pred\n",
    "submissions_df.to_csv('submissions/simple_submission.csv', index=False)"
   ]
  },
  {
   "cell_type": "code",
   "execution_count": null,
   "metadata": {},
   "outputs": [],
   "source": []
  },
  {
   "cell_type": "code",
   "execution_count": null,
   "metadata": {},
   "outputs": [],
   "source": []
  },
  {
   "cell_type": "code",
   "execution_count": 22,
   "metadata": {},
   "outputs": [
    {
     "name": "stderr",
     "output_type": "stream",
     "text": [
      "C:\\Users\\kipil\\Anaconda3\\lib\\site-packages\\lightgbm\\basic.py:1186: UserWarning: Using categorical_feature in Dataset.\n",
      "  warnings.warn('Using categorical_feature in Dataset.')\n",
      "C:\\Users\\kipil\\Anaconda3\\lib\\site-packages\\lightgbm\\basic.py:752: UserWarning: categorical_feature in param dict is overridden.\n",
      "  warnings.warn('categorical_feature in param dict is overridden.')\n"
     ]
    },
    {
     "name": "stdout",
     "output_type": "stream",
     "text": [
      "[1]\tvalid_0's rmse: 1.92588\n",
      "[2]\tvalid_0's rmse: 1.91169\n",
      "[3]\tvalid_0's rmse: 1.89949\n",
      "[4]\tvalid_0's rmse: 1.88828\n",
      "[5]\tvalid_0's rmse: 1.88027\n",
      "[6]\tvalid_0's rmse: 1.87234\n",
      "[7]\tvalid_0's rmse: 1.86647\n",
      "[8]\tvalid_0's rmse: 1.86034\n",
      "[9]\tvalid_0's rmse: 1.85729\n",
      "[10]\tvalid_0's rmse: 1.85485\n",
      "[11]\tvalid_0's rmse: 1.85374\n",
      "[12]\tvalid_0's rmse: 1.85242\n",
      "[13]\tvalid_0's rmse: 1.85094\n",
      "[14]\tvalid_0's rmse: 1.85044\n",
      "[15]\tvalid_0's rmse: 1.84969\n",
      "[16]\tvalid_0's rmse: 1.84723\n",
      "[17]\tvalid_0's rmse: 1.84672\n",
      "[18]\tvalid_0's rmse: 1.8472\n",
      "[19]\tvalid_0's rmse: 1.84581\n",
      "[20]\tvalid_0's rmse: 1.84573\n",
      "[21]\tvalid_0's rmse: 1.84498\n",
      "[22]\tvalid_0's rmse: 1.84414\n",
      "[23]\tvalid_0's rmse: 1.8452\n",
      "[24]\tvalid_0's rmse: 1.84588\n",
      "[25]\tvalid_0's rmse: 1.84711\n",
      "[26]\tvalid_0's rmse: 1.84741\n",
      "[27]\tvalid_0's rmse: 1.84744\n",
      "[28]\tvalid_0's rmse: 1.84802\n",
      "[29]\tvalid_0's rmse: 1.84911\n",
      "[30]\tvalid_0's rmse: 1.84968\n",
      "[31]\tvalid_0's rmse: 1.84992\n",
      "[32]\tvalid_0's rmse: 1.85058\n",
      "[33]\tvalid_0's rmse: 1.85034\n",
      "[34]\tvalid_0's rmse: 1.85128\n",
      "[35]\tvalid_0's rmse: 1.85194\n",
      "[36]\tvalid_0's rmse: 1.85241\n",
      "[37]\tvalid_0's rmse: 1.8528\n",
      "[38]\tvalid_0's rmse: 1.85317\n",
      "[39]\tvalid_0's rmse: 1.8536\n",
      "[40]\tvalid_0's rmse: 1.85393\n",
      "[41]\tvalid_0's rmse: 1.85428\n",
      "[42]\tvalid_0's rmse: 1.85471\n",
      "[43]\tvalid_0's rmse: 1.85515\n",
      "[44]\tvalid_0's rmse: 1.85568\n",
      "[45]\tvalid_0's rmse: 1.85582\n",
      "[46]\tvalid_0's rmse: 1.85602\n",
      "[47]\tvalid_0's rmse: 1.85629\n",
      "[48]\tvalid_0's rmse: 1.85639\n",
      "[49]\tvalid_0's rmse: 1.85695\n",
      "[50]\tvalid_0's rmse: 1.85707\n",
      "[51]\tvalid_0's rmse: 1.85718\n",
      "[52]\tvalid_0's rmse: 1.85736\n",
      "[53]\tvalid_0's rmse: 1.85771\n",
      "[54]\tvalid_0's rmse: 1.85815\n",
      "[55]\tvalid_0's rmse: 1.85853\n",
      "[56]\tvalid_0's rmse: 1.85855\n",
      "[57]\tvalid_0's rmse: 1.85868\n",
      "[58]\tvalid_0's rmse: 1.859\n",
      "[59]\tvalid_0's rmse: 1.85935\n",
      "[60]\tvalid_0's rmse: 1.85922\n",
      "[61]\tvalid_0's rmse: 1.85947\n",
      "[62]\tvalid_0's rmse: 1.85953\n",
      "[63]\tvalid_0's rmse: 1.85973\n",
      "[64]\tvalid_0's rmse: 1.85983\n",
      "[65]\tvalid_0's rmse: 1.86004\n",
      "[66]\tvalid_0's rmse: 1.86054\n",
      "[67]\tvalid_0's rmse: 1.86103\n",
      "[68]\tvalid_0's rmse: 1.86168\n",
      "[69]\tvalid_0's rmse: 1.8623\n",
      "[70]\tvalid_0's rmse: 1.86242\n",
      "[71]\tvalid_0's rmse: 1.86303\n",
      "[72]\tvalid_0's rmse: 1.86321\n",
      "[73]\tvalid_0's rmse: 1.86391\n",
      "[74]\tvalid_0's rmse: 1.86397\n",
      "[75]\tvalid_0's rmse: 1.86433\n",
      "[76]\tvalid_0's rmse: 1.86451\n",
      "[77]\tvalid_0's rmse: 1.865\n",
      "[78]\tvalid_0's rmse: 1.86529\n",
      "[79]\tvalid_0's rmse: 1.86539\n",
      "[80]\tvalid_0's rmse: 1.86563\n",
      "[81]\tvalid_0's rmse: 1.86572\n",
      "[82]\tvalid_0's rmse: 1.86594\n",
      "[83]\tvalid_0's rmse: 1.8666\n",
      "[84]\tvalid_0's rmse: 1.86715\n",
      "[85]\tvalid_0's rmse: 1.86714\n",
      "[86]\tvalid_0's rmse: 1.8673\n",
      "[87]\tvalid_0's rmse: 1.86754\n",
      "[88]\tvalid_0's rmse: 1.86767\n",
      "[89]\tvalid_0's rmse: 1.86825\n",
      "[90]\tvalid_0's rmse: 1.86867\n",
      "[91]\tvalid_0's rmse: 1.86906\n",
      "[92]\tvalid_0's rmse: 1.86907\n",
      "[93]\tvalid_0's rmse: 1.86928\n",
      "[94]\tvalid_0's rmse: 1.86985\n",
      "[95]\tvalid_0's rmse: 1.87011\n",
      "[96]\tvalid_0's rmse: 1.87029\n",
      "[97]\tvalid_0's rmse: 1.8703\n",
      "[98]\tvalid_0's rmse: 1.87039\n",
      "[99]\tvalid_0's rmse: 1.87063\n",
      "[100]\tvalid_0's rmse: 1.87085\n",
      "RMSE score: 1.8709421884079547\n"
     ]
    },
    {
     "name": "stderr",
     "output_type": "stream",
     "text": [
      "C:\\Users\\kipil\\Anaconda3\\lib\\site-packages\\lightgbm\\basic.py:1186: UserWarning: Using categorical_feature in Dataset.\n",
      "  warnings.warn('Using categorical_feature in Dataset.')\n",
      "C:\\Users\\kipil\\Anaconda3\\lib\\site-packages\\lightgbm\\basic.py:752: UserWarning: categorical_feature in param dict is overridden.\n",
      "  warnings.warn('categorical_feature in param dict is overridden.')\n"
     ]
    },
    {
     "name": "stdout",
     "output_type": "stream",
     "text": [
      "[1]\tvalid_0's rmse: 1.75264\n",
      "[2]\tvalid_0's rmse: 1.71884\n",
      "[3]\tvalid_0's rmse: 1.69298\n",
      "[4]\tvalid_0's rmse: 1.67931\n",
      "[5]\tvalid_0's rmse: 1.66756\n",
      "[6]\tvalid_0's rmse: 1.6617\n",
      "[7]\tvalid_0's rmse: 1.6599\n",
      "[8]\tvalid_0's rmse: 1.65894\n",
      "[9]\tvalid_0's rmse: 1.66795\n",
      "[10]\tvalid_0's rmse: 1.67299\n",
      "[11]\tvalid_0's rmse: 1.68211\n",
      "[12]\tvalid_0's rmse: 1.69045\n",
      "[13]\tvalid_0's rmse: 1.70845\n",
      "[14]\tvalid_0's rmse: 1.71831\n",
      "[15]\tvalid_0's rmse: 1.72683\n",
      "[16]\tvalid_0's rmse: 1.73347\n",
      "[17]\tvalid_0's rmse: 1.73981\n",
      "[18]\tvalid_0's rmse: 1.74717\n",
      "[19]\tvalid_0's rmse: 1.75296\n",
      "[20]\tvalid_0's rmse: 1.7581\n",
      "[21]\tvalid_0's rmse: 1.76574\n",
      "[22]\tvalid_0's rmse: 1.77006\n",
      "[23]\tvalid_0's rmse: 1.77507\n",
      "[24]\tvalid_0's rmse: 1.78436\n",
      "[25]\tvalid_0's rmse: 1.79178\n",
      "[26]\tvalid_0's rmse: 1.79562\n",
      "[27]\tvalid_0's rmse: 1.80219\n",
      "[28]\tvalid_0's rmse: 1.80819\n",
      "[29]\tvalid_0's rmse: 1.81493\n",
      "[30]\tvalid_0's rmse: 1.82114\n",
      "[31]\tvalid_0's rmse: 1.82669\n",
      "[32]\tvalid_0's rmse: 1.8331\n",
      "[33]\tvalid_0's rmse: 1.83852\n",
      "[34]\tvalid_0's rmse: 1.84258\n",
      "[35]\tvalid_0's rmse: 1.84685\n",
      "[36]\tvalid_0's rmse: 1.84982\n",
      "[37]\tvalid_0's rmse: 1.85361\n",
      "[38]\tvalid_0's rmse: 1.85752\n",
      "[39]\tvalid_0's rmse: 1.86083\n",
      "[40]\tvalid_0's rmse: 1.86477\n",
      "[41]\tvalid_0's rmse: 1.86836\n",
      "[42]\tvalid_0's rmse: 1.87263\n",
      "[43]\tvalid_0's rmse: 1.87574\n",
      "[44]\tvalid_0's rmse: 1.8788\n",
      "[45]\tvalid_0's rmse: 1.88158\n",
      "[46]\tvalid_0's rmse: 1.88297\n",
      "[47]\tvalid_0's rmse: 1.88547\n",
      "[48]\tvalid_0's rmse: 1.88766\n",
      "[49]\tvalid_0's rmse: 1.88872\n",
      "[50]\tvalid_0's rmse: 1.89212\n",
      "[51]\tvalid_0's rmse: 1.89616\n",
      "[52]\tvalid_0's rmse: 1.89618\n",
      "[53]\tvalid_0's rmse: 1.89646\n",
      "[54]\tvalid_0's rmse: 1.89952\n",
      "[55]\tvalid_0's rmse: 1.9004\n",
      "[56]\tvalid_0's rmse: 1.90248\n",
      "[57]\tvalid_0's rmse: 1.90428\n",
      "[58]\tvalid_0's rmse: 1.90283\n",
      "[59]\tvalid_0's rmse: 1.90564\n",
      "[60]\tvalid_0's rmse: 1.90563\n",
      "[61]\tvalid_0's rmse: 1.9064\n",
      "[62]\tvalid_0's rmse: 1.90718\n",
      "[63]\tvalid_0's rmse: 1.90789\n",
      "[64]\tvalid_0's rmse: 1.90979\n",
      "[65]\tvalid_0's rmse: 1.91127\n",
      "[66]\tvalid_0's rmse: 1.91249\n",
      "[67]\tvalid_0's rmse: 1.9144\n",
      "[68]\tvalid_0's rmse: 1.91606\n",
      "[69]\tvalid_0's rmse: 1.91518\n",
      "[70]\tvalid_0's rmse: 1.91533\n",
      "[71]\tvalid_0's rmse: 1.91527\n",
      "[72]\tvalid_0's rmse: 1.91524\n",
      "[73]\tvalid_0's rmse: 1.91642\n",
      "[74]\tvalid_0's rmse: 1.91645\n",
      "[75]\tvalid_0's rmse: 1.91648\n",
      "[76]\tvalid_0's rmse: 1.9176\n",
      "[77]\tvalid_0's rmse: 1.91725\n",
      "[78]\tvalid_0's rmse: 1.91823\n",
      "[79]\tvalid_0's rmse: 1.9173\n",
      "[80]\tvalid_0's rmse: 1.91911\n",
      "[81]\tvalid_0's rmse: 1.92009\n",
      "[82]\tvalid_0's rmse: 1.92129\n",
      "[83]\tvalid_0's rmse: 1.92191\n",
      "[84]\tvalid_0's rmse: 1.92479\n",
      "[85]\tvalid_0's rmse: 1.92556\n",
      "[86]\tvalid_0's rmse: 1.92532\n",
      "[87]\tvalid_0's rmse: 1.926\n",
      "[88]\tvalid_0's rmse: 1.9252\n",
      "[89]\tvalid_0's rmse: 1.9257\n",
      "[90]\tvalid_0's rmse: 1.92699\n",
      "[91]\tvalid_0's rmse: 1.92873\n",
      "[92]\tvalid_0's rmse: 1.92879\n",
      "[93]\tvalid_0's rmse: 1.92789\n",
      "[94]\tvalid_0's rmse: 1.92895\n",
      "[95]\tvalid_0's rmse: 1.92967\n",
      "[96]\tvalid_0's rmse: 1.9303\n",
      "[97]\tvalid_0's rmse: 1.92992\n",
      "[98]\tvalid_0's rmse: 1.93087\n",
      "[99]\tvalid_0's rmse: 1.93122\n",
      "[100]\tvalid_0's rmse: 1.93187\n",
      "RMSE score: 1.9316374620435401\n"
     ]
    },
    {
     "name": "stderr",
     "output_type": "stream",
     "text": [
      "C:\\Users\\kipil\\Anaconda3\\lib\\site-packages\\lightgbm\\basic.py:1186: UserWarning: Using categorical_feature in Dataset.\n",
      "  warnings.warn('Using categorical_feature in Dataset.')\n",
      "C:\\Users\\kipil\\Anaconda3\\lib\\site-packages\\lightgbm\\basic.py:752: UserWarning: categorical_feature in param dict is overridden.\n",
      "  warnings.warn('categorical_feature in param dict is overridden.')\n"
     ]
    },
    {
     "name": "stdout",
     "output_type": "stream",
     "text": [
      "[1]\tvalid_0's rmse: 2.08269\n",
      "[2]\tvalid_0's rmse: 2.06243\n",
      "[3]\tvalid_0's rmse: 2.04575\n",
      "[4]\tvalid_0's rmse: 2.03633\n",
      "[5]\tvalid_0's rmse: 2.03024\n",
      "[6]\tvalid_0's rmse: 2.03339\n",
      "[7]\tvalid_0's rmse: 2.03493\n",
      "[8]\tvalid_0's rmse: 2.0383\n",
      "[9]\tvalid_0's rmse: 2.04028\n",
      "[10]\tvalid_0's rmse: 2.046\n",
      "[11]\tvalid_0's rmse: 2.05421\n",
      "[12]\tvalid_0's rmse: 2.05476\n",
      "[13]\tvalid_0's rmse: 2.06386\n",
      "[14]\tvalid_0's rmse: 2.07249\n",
      "[15]\tvalid_0's rmse: 2.07516\n",
      "[16]\tvalid_0's rmse: 2.08018\n",
      "[17]\tvalid_0's rmse: 2.0837\n",
      "[18]\tvalid_0's rmse: 2.08947\n",
      "[19]\tvalid_0's rmse: 2.09468\n",
      "[20]\tvalid_0's rmse: 2.0972\n",
      "[21]\tvalid_0's rmse: 2.09978\n",
      "[22]\tvalid_0's rmse: 2.10173\n",
      "[23]\tvalid_0's rmse: 2.1082\n",
      "[24]\tvalid_0's rmse: 2.11315\n",
      "[25]\tvalid_0's rmse: 2.11801\n",
      "[26]\tvalid_0's rmse: 2.12326\n",
      "[27]\tvalid_0's rmse: 2.12606\n",
      "[28]\tvalid_0's rmse: 2.12806\n",
      "[29]\tvalid_0's rmse: 2.12945\n",
      "[30]\tvalid_0's rmse: 2.12882\n",
      "[31]\tvalid_0's rmse: 2.13272\n",
      "[32]\tvalid_0's rmse: 2.13583\n",
      "[33]\tvalid_0's rmse: 2.1376\n",
      "[34]\tvalid_0's rmse: 2.1371\n",
      "[35]\tvalid_0's rmse: 2.13977\n",
      "[36]\tvalid_0's rmse: 2.14278\n",
      "[37]\tvalid_0's rmse: 2.14706\n",
      "[38]\tvalid_0's rmse: 2.149\n",
      "[39]\tvalid_0's rmse: 2.15146\n",
      "[40]\tvalid_0's rmse: 2.1525\n",
      "[41]\tvalid_0's rmse: 2.15398\n",
      "[42]\tvalid_0's rmse: 2.15103\n",
      "[43]\tvalid_0's rmse: 2.15367\n",
      "[44]\tvalid_0's rmse: 2.15076\n",
      "[45]\tvalid_0's rmse: 2.15308\n",
      "[46]\tvalid_0's rmse: 2.15526\n",
      "[47]\tvalid_0's rmse: 2.15388\n",
      "[48]\tvalid_0's rmse: 2.15219\n",
      "[49]\tvalid_0's rmse: 2.15329\n",
      "[50]\tvalid_0's rmse: 2.15147\n",
      "[51]\tvalid_0's rmse: 2.15358\n",
      "[52]\tvalid_0's rmse: 2.15508\n",
      "[53]\tvalid_0's rmse: 2.15502\n",
      "[54]\tvalid_0's rmse: 2.15732\n",
      "[55]\tvalid_0's rmse: 2.15517\n",
      "[56]\tvalid_0's rmse: 2.15328\n",
      "[57]\tvalid_0's rmse: 2.15577\n",
      "[58]\tvalid_0's rmse: 2.15838\n",
      "[59]\tvalid_0's rmse: 2.16006\n",
      "[60]\tvalid_0's rmse: 2.16047\n",
      "[61]\tvalid_0's rmse: 2.16023\n",
      "[62]\tvalid_0's rmse: 2.16241\n",
      "[63]\tvalid_0's rmse: 2.16098\n",
      "[64]\tvalid_0's rmse: 2.16032\n",
      "[65]\tvalid_0's rmse: 2.16148\n",
      "[66]\tvalid_0's rmse: 2.15993\n",
      "[67]\tvalid_0's rmse: 2.16152\n",
      "[68]\tvalid_0's rmse: 2.16068\n",
      "[69]\tvalid_0's rmse: 2.1616\n",
      "[70]\tvalid_0's rmse: 2.16143\n",
      "[71]\tvalid_0's rmse: 2.16304\n",
      "[72]\tvalid_0's rmse: 2.16199\n",
      "[73]\tvalid_0's rmse: 2.16042\n",
      "[74]\tvalid_0's rmse: 2.16238\n",
      "[75]\tvalid_0's rmse: 2.16342\n",
      "[76]\tvalid_0's rmse: 2.1625\n",
      "[77]\tvalid_0's rmse: 2.1628\n",
      "[78]\tvalid_0's rmse: 2.16432\n",
      "[79]\tvalid_0's rmse: 2.16414\n",
      "[80]\tvalid_0's rmse: 2.16558\n",
      "[81]\tvalid_0's rmse: 2.16598\n",
      "[82]\tvalid_0's rmse: 2.16658\n",
      "[83]\tvalid_0's rmse: 2.1668\n",
      "[84]\tvalid_0's rmse: 2.16623\n",
      "[85]\tvalid_0's rmse: 2.16714\n",
      "[86]\tvalid_0's rmse: 2.16602\n",
      "[87]\tvalid_0's rmse: 2.16511\n",
      "[88]\tvalid_0's rmse: 2.16397\n",
      "[89]\tvalid_0's rmse: 2.16614\n",
      "[90]\tvalid_0's rmse: 2.16779\n",
      "[91]\tvalid_0's rmse: 2.16908\n",
      "[92]\tvalid_0's rmse: 2.16767\n",
      "[93]\tvalid_0's rmse: 2.16926\n",
      "[94]\tvalid_0's rmse: 2.16939\n",
      "[95]\tvalid_0's rmse: 2.16982\n",
      "[96]\tvalid_0's rmse: 2.16993\n",
      "[97]\tvalid_0's rmse: 2.17079\n",
      "[98]\tvalid_0's rmse: 2.17145\n",
      "[99]\tvalid_0's rmse: 2.17139\n",
      "[100]\tvalid_0's rmse: 2.17147\n",
      "RMSE score: 2.0961574973756365\n"
     ]
    },
    {
     "name": "stderr",
     "output_type": "stream",
     "text": [
      "C:\\Users\\kipil\\Anaconda3\\lib\\site-packages\\lightgbm\\basic.py:1186: UserWarning: Using categorical_feature in Dataset.\n",
      "  warnings.warn('Using categorical_feature in Dataset.')\n",
      "C:\\Users\\kipil\\Anaconda3\\lib\\site-packages\\lightgbm\\basic.py:752: UserWarning: categorical_feature in param dict is overridden.\n",
      "  warnings.warn('categorical_feature in param dict is overridden.')\n"
     ]
    },
    {
     "name": "stdout",
     "output_type": "stream",
     "text": [
      "[1]\tvalid_0's rmse: 3.01807\n",
      "[2]\tvalid_0's rmse: 2.99831\n",
      "[3]\tvalid_0's rmse: 2.98426\n",
      "[4]\tvalid_0's rmse: 2.9745\n",
      "[5]\tvalid_0's rmse: 2.96635\n",
      "[6]\tvalid_0's rmse: 2.95969\n",
      "[7]\tvalid_0's rmse: 2.95533\n",
      "[8]\tvalid_0's rmse: 2.95152\n",
      "[9]\tvalid_0's rmse: 2.9498\n",
      "[10]\tvalid_0's rmse: 2.95028\n",
      "[11]\tvalid_0's rmse: 2.95296\n",
      "[12]\tvalid_0's rmse: 2.95117\n",
      "[13]\tvalid_0's rmse: 2.95208\n",
      "[14]\tvalid_0's rmse: 2.95613\n",
      "[15]\tvalid_0's rmse: 2.95809\n",
      "[16]\tvalid_0's rmse: 2.95975\n",
      "[17]\tvalid_0's rmse: 2.96142\n",
      "[18]\tvalid_0's rmse: 2.9631\n",
      "[19]\tvalid_0's rmse: 2.96332\n",
      "[20]\tvalid_0's rmse: 2.9639\n",
      "[21]\tvalid_0's rmse: 2.96748\n",
      "[22]\tvalid_0's rmse: 2.97118\n",
      "[23]\tvalid_0's rmse: 2.9731\n",
      "[24]\tvalid_0's rmse: 2.97772\n",
      "[25]\tvalid_0's rmse: 2.97878\n",
      "[26]\tvalid_0's rmse: 2.97997\n",
      "[27]\tvalid_0's rmse: 2.98503\n",
      "[28]\tvalid_0's rmse: 2.98451\n",
      "[29]\tvalid_0's rmse: 2.98745\n",
      "[30]\tvalid_0's rmse: 2.98755\n",
      "[31]\tvalid_0's rmse: 2.98754\n",
      "[32]\tvalid_0's rmse: 2.98859\n",
      "[33]\tvalid_0's rmse: 2.99076\n",
      "[34]\tvalid_0's rmse: 2.99018\n",
      "[35]\tvalid_0's rmse: 2.993\n",
      "[36]\tvalid_0's rmse: 2.99281\n",
      "[37]\tvalid_0's rmse: 2.99239\n",
      "[38]\tvalid_0's rmse: 2.99161\n",
      "[39]\tvalid_0's rmse: 2.99188\n",
      "[40]\tvalid_0's rmse: 2.99253\n",
      "[41]\tvalid_0's rmse: 2.99227\n",
      "[42]\tvalid_0's rmse: 2.99169\n",
      "[43]\tvalid_0's rmse: 2.99241\n",
      "[44]\tvalid_0's rmse: 2.99376\n",
      "[45]\tvalid_0's rmse: 2.9943\n",
      "[46]\tvalid_0's rmse: 2.99373\n",
      "[47]\tvalid_0's rmse: 2.99406\n",
      "[48]\tvalid_0's rmse: 2.99403\n",
      "[49]\tvalid_0's rmse: 2.99345\n",
      "[50]\tvalid_0's rmse: 2.99547\n",
      "[51]\tvalid_0's rmse: 2.99566\n",
      "[52]\tvalid_0's rmse: 2.9957\n",
      "[53]\tvalid_0's rmse: 2.99514\n",
      "[54]\tvalid_0's rmse: 2.99718\n",
      "[55]\tvalid_0's rmse: 2.99724\n",
      "[56]\tvalid_0's rmse: 2.99938\n",
      "[57]\tvalid_0's rmse: 2.9996\n",
      "[58]\tvalid_0's rmse: 3.00036\n",
      "[59]\tvalid_0's rmse: 3.00062\n",
      "[60]\tvalid_0's rmse: 3.00106\n",
      "[61]\tvalid_0's rmse: 3.00255\n",
      "[62]\tvalid_0's rmse: 3.00277\n",
      "[63]\tvalid_0's rmse: 3.0042\n",
      "[64]\tvalid_0's rmse: 3.00573\n",
      "[65]\tvalid_0's rmse: 3.00611\n",
      "[66]\tvalid_0's rmse: 3.00677\n",
      "[67]\tvalid_0's rmse: 3.00765\n",
      "[68]\tvalid_0's rmse: 3.00799\n",
      "[69]\tvalid_0's rmse: 3.00744\n",
      "[70]\tvalid_0's rmse: 3.00843\n",
      "[71]\tvalid_0's rmse: 3.00812\n",
      "[72]\tvalid_0's rmse: 3.00799\n",
      "[73]\tvalid_0's rmse: 3.00819\n",
      "[74]\tvalid_0's rmse: 3.00917\n",
      "[75]\tvalid_0's rmse: 3.00944\n",
      "[76]\tvalid_0's rmse: 3.00953\n",
      "[77]\tvalid_0's rmse: 3.01106\n",
      "[78]\tvalid_0's rmse: 3.01243\n",
      "[79]\tvalid_0's rmse: 3.01265\n",
      "[80]\tvalid_0's rmse: 3.01277\n",
      "[81]\tvalid_0's rmse: 3.01291\n",
      "[82]\tvalid_0's rmse: 3.01307\n",
      "[83]\tvalid_0's rmse: 3.01315\n",
      "[84]\tvalid_0's rmse: 3.01347\n",
      "[85]\tvalid_0's rmse: 3.01292\n",
      "[86]\tvalid_0's rmse: 3.01301\n",
      "[87]\tvalid_0's rmse: 3.01365\n",
      "[88]\tvalid_0's rmse: 3.01407\n",
      "[89]\tvalid_0's rmse: 3.01453\n",
      "[90]\tvalid_0's rmse: 3.01642\n",
      "[91]\tvalid_0's rmse: 3.01776\n",
      "[92]\tvalid_0's rmse: 3.0172\n",
      "[93]\tvalid_0's rmse: 3.01703\n",
      "[94]\tvalid_0's rmse: 3.01798\n",
      "[95]\tvalid_0's rmse: 3.01807\n",
      "[96]\tvalid_0's rmse: 3.01826\n",
      "[97]\tvalid_0's rmse: 3.01833\n",
      "[98]\tvalid_0's rmse: 3.02025\n",
      "[99]\tvalid_0's rmse: 3.02023\n",
      "[100]\tvalid_0's rmse: 3.02155\n",
      "RMSE score: 3.0215313294871438\n"
     ]
    },
    {
     "name": "stderr",
     "output_type": "stream",
     "text": [
      "C:\\Users\\kipil\\Anaconda3\\lib\\site-packages\\lightgbm\\basic.py:1186: UserWarning: Using categorical_feature in Dataset.\n",
      "  warnings.warn('Using categorical_feature in Dataset.')\n",
      "C:\\Users\\kipil\\Anaconda3\\lib\\site-packages\\lightgbm\\basic.py:752: UserWarning: categorical_feature in param dict is overridden.\n",
      "  warnings.warn('categorical_feature in param dict is overridden.')\n"
     ]
    },
    {
     "name": "stdout",
     "output_type": "stream",
     "text": [
      "[1]\tvalid_0's rmse: 4.40818\n",
      "[2]\tvalid_0's rmse: 4.39865\n",
      "[3]\tvalid_0's rmse: 4.39184\n",
      "[4]\tvalid_0's rmse: 4.38668\n",
      "[5]\tvalid_0's rmse: 4.38317\n",
      "[6]\tvalid_0's rmse: 4.38036\n",
      "[7]\tvalid_0's rmse: 4.37908\n",
      "[8]\tvalid_0's rmse: 4.37886\n",
      "[9]\tvalid_0's rmse: 4.37888\n",
      "[10]\tvalid_0's rmse: 4.37908\n",
      "[11]\tvalid_0's rmse: 4.37964\n",
      "[12]\tvalid_0's rmse: 4.3806\n",
      "[13]\tvalid_0's rmse: 4.38098\n",
      "[14]\tvalid_0's rmse: 4.38194\n",
      "[15]\tvalid_0's rmse: 4.38261\n",
      "[16]\tvalid_0's rmse: 4.3834\n",
      "[17]\tvalid_0's rmse: 4.38409\n",
      "[18]\tvalid_0's rmse: 4.3855\n",
      "[19]\tvalid_0's rmse: 4.38702\n",
      "[20]\tvalid_0's rmse: 4.38767\n",
      "[21]\tvalid_0's rmse: 4.38918\n",
      "[22]\tvalid_0's rmse: 4.39076\n",
      "[23]\tvalid_0's rmse: 4.39335\n",
      "[24]\tvalid_0's rmse: 4.39512\n",
      "[25]\tvalid_0's rmse: 4.39727\n",
      "[26]\tvalid_0's rmse: 4.3987\n",
      "[27]\tvalid_0's rmse: 4.39985\n",
      "[28]\tvalid_0's rmse: 4.39981\n",
      "[29]\tvalid_0's rmse: 4.40075\n",
      "[30]\tvalid_0's rmse: 4.40142\n",
      "[31]\tvalid_0's rmse: 4.40327\n",
      "[32]\tvalid_0's rmse: 4.40466\n",
      "[33]\tvalid_0's rmse: 4.40504\n",
      "[34]\tvalid_0's rmse: 4.40532\n",
      "[35]\tvalid_0's rmse: 4.40668\n",
      "[36]\tvalid_0's rmse: 4.40569\n",
      "[37]\tvalid_0's rmse: 4.40713\n",
      "[38]\tvalid_0's rmse: 4.40792\n",
      "[39]\tvalid_0's rmse: 4.40758\n",
      "[40]\tvalid_0's rmse: 4.40938\n",
      "[41]\tvalid_0's rmse: 4.40948\n",
      "[42]\tvalid_0's rmse: 4.40994\n",
      "[43]\tvalid_0's rmse: 4.4108\n",
      "[44]\tvalid_0's rmse: 4.40874\n",
      "[45]\tvalid_0's rmse: 4.40991\n",
      "[46]\tvalid_0's rmse: 4.40962\n",
      "[47]\tvalid_0's rmse: 4.41109\n",
      "[48]\tvalid_0's rmse: 4.41029\n",
      "[49]\tvalid_0's rmse: 4.41117\n",
      "[50]\tvalid_0's rmse: 4.4129\n",
      "[51]\tvalid_0's rmse: 4.41374\n",
      "[52]\tvalid_0's rmse: 4.41275\n",
      "[53]\tvalid_0's rmse: 4.41352\n",
      "[54]\tvalid_0's rmse: 4.41262\n",
      "[55]\tvalid_0's rmse: 4.4133\n",
      "[56]\tvalid_0's rmse: 4.41421\n",
      "[57]\tvalid_0's rmse: 4.41436\n",
      "[58]\tvalid_0's rmse: 4.41392\n",
      "[59]\tvalid_0's rmse: 4.41492\n",
      "[60]\tvalid_0's rmse: 4.41575\n",
      "[61]\tvalid_0's rmse: 4.41623\n",
      "[62]\tvalid_0's rmse: 4.41442\n",
      "[63]\tvalid_0's rmse: 4.41531\n",
      "[64]\tvalid_0's rmse: 4.41451\n",
      "[65]\tvalid_0's rmse: 4.41497\n",
      "[66]\tvalid_0's rmse: 4.41508\n",
      "[67]\tvalid_0's rmse: 4.41434\n",
      "[68]\tvalid_0's rmse: 4.41493\n",
      "[69]\tvalid_0's rmse: 4.4158\n",
      "[70]\tvalid_0's rmse: 4.41505\n",
      "[71]\tvalid_0's rmse: 4.41592\n",
      "[72]\tvalid_0's rmse: 4.41595\n",
      "[73]\tvalid_0's rmse: 4.41671\n",
      "[74]\tvalid_0's rmse: 4.41707\n",
      "[75]\tvalid_0's rmse: 4.41546\n",
      "[76]\tvalid_0's rmse: 4.41696\n",
      "[77]\tvalid_0's rmse: 4.41652\n",
      "[78]\tvalid_0's rmse: 4.41776\n",
      "[79]\tvalid_0's rmse: 4.4185\n",
      "[80]\tvalid_0's rmse: 4.41856\n",
      "[81]\tvalid_0's rmse: 4.41916\n",
      "[82]\tvalid_0's rmse: 4.41767\n",
      "[83]\tvalid_0's rmse: 4.41884\n",
      "[84]\tvalid_0's rmse: 4.41794\n",
      "[85]\tvalid_0's rmse: 4.41838\n",
      "[86]\tvalid_0's rmse: 4.41886\n",
      "[87]\tvalid_0's rmse: 4.41906\n",
      "[88]\tvalid_0's rmse: 4.41831\n",
      "[89]\tvalid_0's rmse: 4.41743\n",
      "[90]\tvalid_0's rmse: 4.4166\n",
      "[91]\tvalid_0's rmse: 4.41689\n",
      "[92]\tvalid_0's rmse: 4.41611\n",
      "[93]\tvalid_0's rmse: 4.41625\n",
      "[94]\tvalid_0's rmse: 4.41674\n",
      "[95]\tvalid_0's rmse: 4.41744\n",
      "[96]\tvalid_0's rmse: 4.41798\n",
      "[97]\tvalid_0's rmse: 4.41762\n",
      "[98]\tvalid_0's rmse: 4.41802\n",
      "[99]\tvalid_0's rmse: 4.41698\n",
      "[100]\tvalid_0's rmse: 4.41774\n",
      "RMSE score: 4.41560019966994\n"
     ]
    }
   ],
   "source": [
    "scores = []\n",
    "\n",
    "params = {\n",
    "    'boosting_type': 'gbdt',\n",
    "    'objective': 'rmse',\n",
    "    'verbose': 0\n",
    "}\n",
    "\n",
    "for train_idx, valid_idx in cv.split(X, y):\n",
    "    \n",
    "    X_train, y_train = X[train_idx], y[train_idx]\n",
    "    X_valid, y_valid = X[valid_idx], y[valid_idx]\n",
    "    \n",
    "    lgb_train = lgb.Dataset(X_train, y_train, categorical_feature=[0, 1, 2, 3])\n",
    "    lgb_eval = lgb.Dataset(X_valid, y_valid, categorical_feature=[0, 1, 2, 3], reference=lgb_train)\n",
    "    \n",
    "    gbm = lgb.train(params, lgb_train, valid_sets=lgb_eval)\n",
    "    \n",
    "    y_pred = gbm.predict(X_valid, num_iteration=gbm.best_iteration)\n",
    "    score = mean_squared_error(y_valid, y_pred) ** 0.5\n",
    "    scores.append(score)\n",
    "    print(\"RMSE score:\", score)"
   ]
  },
  {
   "cell_type": "code",
   "execution_count": 23,
   "metadata": {},
   "outputs": [
    {
     "data": {
      "text/plain": [
       "[1.8709421884079547,\n",
       " 1.9316374620435401,\n",
       " 2.0961574973756365,\n",
       " 3.0215313294871438,\n",
       " 4.41560019966994]"
      ]
     },
     "execution_count": 23,
     "metadata": {},
     "output_type": "execute_result"
    }
   ],
   "source": [
    "scores"
   ]
  }
 ],
 "metadata": {
  "kernelspec": {
   "display_name": "Python 3",
   "language": "python",
   "name": "python3"
  },
  "language_info": {
   "codemirror_mode": {
    "name": "ipython",
    "version": 3
   },
   "file_extension": ".py",
   "mimetype": "text/x-python",
   "name": "python",
   "nbconvert_exporter": "python",
   "pygments_lexer": "ipython3",
   "version": "3.6.6"
  }
 },
 "nbformat": 4,
 "nbformat_minor": 2
}
