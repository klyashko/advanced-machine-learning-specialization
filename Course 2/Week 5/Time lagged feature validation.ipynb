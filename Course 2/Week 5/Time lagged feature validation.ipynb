{
 "cells": [
  {
   "cell_type": "code",
   "execution_count": 1,
   "metadata": {},
   "outputs": [],
   "source": [
    "%matplotlib inline\n",
    "\n",
    "import pandas as pd\n",
    "import numpy as np\n",
    "import lightgbm as lgb\n",
    "import seaborn as sns\n",
    "\n",
    "from sklearn.model_selection import cross_val_score, TimeSeriesSplit, train_test_split\n",
    "from sklearn.metrics import mean_squared_error\n",
    "from lightgbm import LGBMRegressor\n",
    "\n",
    "import matplotlib.pyplot as plt\n",
    "\n",
    "DATA = 'data/'"
   ]
  },
  {
   "cell_type": "code",
   "execution_count": 2,
   "metadata": {},
   "outputs": [
    {
     "data": {
      "text/plain": [
       "(4712400, 33)"
      ]
     },
     "execution_count": 2,
     "metadata": {},
     "output_type": "execute_result"
    },
    {
     "data": {
      "text/html": [
       "<div>\n",
       "<style scoped>\n",
       "    .dataframe tbody tr th:only-of-type {\n",
       "        vertical-align: middle;\n",
       "    }\n",
       "\n",
       "    .dataframe tbody tr th {\n",
       "        vertical-align: top;\n",
       "    }\n",
       "\n",
       "    .dataframe thead th {\n",
       "        text-align: right;\n",
       "    }\n",
       "</style>\n",
       "<table border=\"1\" class=\"dataframe\">\n",
       "  <thead>\n",
       "    <tr style=\"text-align: right;\">\n",
       "      <th></th>\n",
       "      <th>date_block_num</th>\n",
       "      <th>item_price</th>\n",
       "      <th>item_cnt_day</th>\n",
       "      <th>shop_id</th>\n",
       "      <th>item_id</th>\n",
       "      <th>item_category_id</th>\n",
       "      <th>city_id</th>\n",
       "      <th>item_lag_1</th>\n",
       "      <th>item_lag_3</th>\n",
       "      <th>item_lag_6</th>\n",
       "      <th>...</th>\n",
       "      <th>item_city_lag_12</th>\n",
       "      <th>item_category_city_lag_1</th>\n",
       "      <th>item_category_city_lag_3</th>\n",
       "      <th>item_category_city_lag_6</th>\n",
       "      <th>item_category_city_lag_9</th>\n",
       "      <th>item_category_city_lag_12</th>\n",
       "      <th>item_city_avg</th>\n",
       "      <th>item_category_city_avg</th>\n",
       "      <th>month</th>\n",
       "      <th>days</th>\n",
       "    </tr>\n",
       "  </thead>\n",
       "  <tbody>\n",
       "    <tr>\n",
       "      <th>61200</th>\n",
       "      <td>12</td>\n",
       "      <td>6999.0</td>\n",
       "      <td>0.0</td>\n",
       "      <td>5</td>\n",
       "      <td>3839</td>\n",
       "      <td>24</td>\n",
       "      <td>5</td>\n",
       "      <td>0.000000</td>\n",
       "      <td>0.000000</td>\n",
       "      <td>0.0</td>\n",
       "      <td>...</td>\n",
       "      <td>0.0</td>\n",
       "      <td>0.000000</td>\n",
       "      <td>0.000000</td>\n",
       "      <td>0.000000</td>\n",
       "      <td>0.000000</td>\n",
       "      <td>0.0</td>\n",
       "      <td>0.000000</td>\n",
       "      <td>0.000000</td>\n",
       "      <td>1</td>\n",
       "      <td>31</td>\n",
       "    </tr>\n",
       "    <tr>\n",
       "      <th>61201</th>\n",
       "      <td>12</td>\n",
       "      <td>899.0</td>\n",
       "      <td>0.0</td>\n",
       "      <td>5</td>\n",
       "      <td>6415</td>\n",
       "      <td>23</td>\n",
       "      <td>5</td>\n",
       "      <td>0.000000</td>\n",
       "      <td>0.032258</td>\n",
       "      <td>0.0</td>\n",
       "      <td>...</td>\n",
       "      <td>0.0</td>\n",
       "      <td>1.838710</td>\n",
       "      <td>1.483871</td>\n",
       "      <td>0.258065</td>\n",
       "      <td>0.322581</td>\n",
       "      <td>0.0</td>\n",
       "      <td>0.083333</td>\n",
       "      <td>0.153153</td>\n",
       "      <td>1</td>\n",
       "      <td>31</td>\n",
       "    </tr>\n",
       "    <tr>\n",
       "      <th>61202</th>\n",
       "      <td>12</td>\n",
       "      <td>2090.0</td>\n",
       "      <td>0.0</td>\n",
       "      <td>5</td>\n",
       "      <td>5664</td>\n",
       "      <td>3</td>\n",
       "      <td>5</td>\n",
       "      <td>0.032258</td>\n",
       "      <td>0.000000</td>\n",
       "      <td>0.0</td>\n",
       "      <td>...</td>\n",
       "      <td>0.0</td>\n",
       "      <td>1.000000</td>\n",
       "      <td>0.000000</td>\n",
       "      <td>0.000000</td>\n",
       "      <td>0.000000</td>\n",
       "      <td>0.0</td>\n",
       "      <td>0.083333</td>\n",
       "      <td>0.107143</td>\n",
       "      <td>1</td>\n",
       "      <td>31</td>\n",
       "    </tr>\n",
       "    <tr>\n",
       "      <th>61203</th>\n",
       "      <td>12</td>\n",
       "      <td>2599.0</td>\n",
       "      <td>6.0</td>\n",
       "      <td>5</td>\n",
       "      <td>3734</td>\n",
       "      <td>23</td>\n",
       "      <td>5</td>\n",
       "      <td>0.516129</td>\n",
       "      <td>0.645161</td>\n",
       "      <td>0.0</td>\n",
       "      <td>...</td>\n",
       "      <td>0.0</td>\n",
       "      <td>1.838710</td>\n",
       "      <td>1.483871</td>\n",
       "      <td>0.258065</td>\n",
       "      <td>0.322581</td>\n",
       "      <td>0.0</td>\n",
       "      <td>5.583333</td>\n",
       "      <td>0.153067</td>\n",
       "      <td>1</td>\n",
       "      <td>31</td>\n",
       "    </tr>\n",
       "    <tr>\n",
       "      <th>61204</th>\n",
       "      <td>12</td>\n",
       "      <td>599.0</td>\n",
       "      <td>0.0</td>\n",
       "      <td>5</td>\n",
       "      <td>6710</td>\n",
       "      <td>30</td>\n",
       "      <td>5</td>\n",
       "      <td>0.000000</td>\n",
       "      <td>0.000000</td>\n",
       "      <td>0.0</td>\n",
       "      <td>...</td>\n",
       "      <td>0.0</td>\n",
       "      <td>4.806452</td>\n",
       "      <td>3.129032</td>\n",
       "      <td>2.741935</td>\n",
       "      <td>1.838710</td>\n",
       "      <td>0.0</td>\n",
       "      <td>0.000000</td>\n",
       "      <td>0.643995</td>\n",
       "      <td>1</td>\n",
       "      <td>31</td>\n",
       "    </tr>\n",
       "  </tbody>\n",
       "</table>\n",
       "<p>5 rows × 33 columns</p>\n",
       "</div>"
      ],
      "text/plain": [
       "       date_block_num  item_price  item_cnt_day  shop_id  item_id  \\\n",
       "61200              12      6999.0           0.0        5     3839   \n",
       "61201              12       899.0           0.0        5     6415   \n",
       "61202              12      2090.0           0.0        5     5664   \n",
       "61203              12      2599.0           6.0        5     3734   \n",
       "61204              12       599.0           0.0        5     6710   \n",
       "\n",
       "       item_category_id  city_id  item_lag_1  item_lag_3  item_lag_6  ...   \\\n",
       "61200                24        5    0.000000    0.000000         0.0  ...    \n",
       "61201                23        5    0.000000    0.032258         0.0  ...    \n",
       "61202                 3        5    0.032258    0.000000         0.0  ...    \n",
       "61203                23        5    0.516129    0.645161         0.0  ...    \n",
       "61204                30        5    0.000000    0.000000         0.0  ...    \n",
       "\n",
       "       item_city_lag_12  item_category_city_lag_1  item_category_city_lag_3  \\\n",
       "61200               0.0                  0.000000                  0.000000   \n",
       "61201               0.0                  1.838710                  1.483871   \n",
       "61202               0.0                  1.000000                  0.000000   \n",
       "61203               0.0                  1.838710                  1.483871   \n",
       "61204               0.0                  4.806452                  3.129032   \n",
       "\n",
       "       item_category_city_lag_6  item_category_city_lag_9  \\\n",
       "61200                  0.000000                  0.000000   \n",
       "61201                  0.258065                  0.322581   \n",
       "61202                  0.000000                  0.000000   \n",
       "61203                  0.258065                  0.322581   \n",
       "61204                  2.741935                  1.838710   \n",
       "\n",
       "       item_category_city_lag_12  item_city_avg  item_category_city_avg  \\\n",
       "61200                        0.0       0.000000                0.000000   \n",
       "61201                        0.0       0.083333                0.153153   \n",
       "61202                        0.0       0.083333                0.107143   \n",
       "61203                        0.0       5.583333                0.153067   \n",
       "61204                        0.0       0.000000                0.643995   \n",
       "\n",
       "       month  days  \n",
       "61200      1    31  \n",
       "61201      1    31  \n",
       "61202      1    31  \n",
       "61203      1    31  \n",
       "61204      1    31  \n",
       "\n",
       "[5 rows x 33 columns]"
      ]
     },
     "execution_count": 2,
     "metadata": {},
     "output_type": "execute_result"
    }
   ],
   "source": [
    "train_df = pd.read_hdf(DATA + 'features_v1.h5', key='features')\n",
    "\n",
    "train_df.shape\n",
    "train_df.head()"
   ]
  },
  {
   "cell_type": "code",
   "execution_count": 3,
   "metadata": {},
   "outputs": [],
   "source": [
    "y_df = train_df.item_cnt_day\n",
    "train_df.drop('item_cnt_day', inplace=True, axis=1)"
   ]
  },
  {
   "cell_type": "code",
   "execution_count": 4,
   "metadata": {},
   "outputs": [
    {
     "data": {
      "text/plain": [
       "Index(['date_block_num', 'item_price', 'shop_id', 'item_id',\n",
       "       'item_category_id', 'city_id', 'item_lag_1', 'item_lag_3', 'item_lag_6',\n",
       "       'item_lag_9', 'item_lag_12', 'item_category_lag_1',\n",
       "       'item_category_lag_3', 'item_category_lag_6', 'item_category_lag_9',\n",
       "       'item_category_lag_12', 'item_avg', 'item_category_avg',\n",
       "       'item_city_lag_1', 'item_city_lag_3', 'item_city_lag_6',\n",
       "       'item_city_lag_9', 'item_city_lag_12', 'item_category_city_lag_1',\n",
       "       'item_category_city_lag_3', 'item_category_city_lag_6',\n",
       "       'item_category_city_lag_9', 'item_category_city_lag_12',\n",
       "       'item_city_avg', 'item_category_city_avg', 'month', 'days'],\n",
       "      dtype='object')"
      ]
     },
     "execution_count": 4,
     "metadata": {},
     "output_type": "execute_result"
    }
   ],
   "source": [
    "train_df.columns"
   ]
  },
  {
   "cell_type": "code",
   "execution_count": 9,
   "metadata": {},
   "outputs": [],
   "source": [
    "columns = [\n",
    "    'item_price', 'shop_id', 'item_id', 'item_category_id', 'city_id', 'month', 'days',\n",
    "    'date_block_num', 'item_lag_1', 'item_lag_3', 'item_lag_6', 'item_lag_9',\n",
    "    'item_lag_12', 'item_category_lag_1', 'item_category_lag_3',\n",
    "    'item_category_lag_6', 'item_category_lag_9', 'item_category_lag_12',\n",
    "    'item_avg', 'item_category_avg', 'item_city_lag_1', 'item_city_lag_3',\n",
    "    'item_city_lag_6', 'item_city_lag_9', 'item_city_lag_12',\n",
    "    'item_category_city_lag_1', 'item_category_city_lag_3',\n",
    "    'item_category_city_lag_6', 'item_category_city_lag_9',\n",
    "    'item_category_city_lag_12', 'item_city_avg', 'item_category_city_avg'\n",
    "]"
   ]
  },
  {
   "cell_type": "code",
   "execution_count": 10,
   "metadata": {},
   "outputs": [],
   "source": [
    "# columns = np.delete(columns, 4)"
   ]
  },
  {
   "cell_type": "code",
   "execution_count": 16,
   "metadata": {},
   "outputs": [
    {
     "data": {
      "text/plain": [
       "array([12, 13, 14, 15, 16, 17, 18, 19, 20, 21, 22, 23, 24, 25, 26, 27, 28,\n",
       "       29, 30, 31, 32, 33], dtype=int64)"
      ]
     },
     "execution_count": 16,
     "metadata": {},
     "output_type": "execute_result"
    }
   ],
   "source": [
    "train_df.date_block_num.unique()"
   ]
  },
  {
   "cell_type": "code",
   "execution_count": 20,
   "metadata": {},
   "outputs": [],
   "source": [
    "X = train_df[train_df.date_block_num > 23][columns].values\n",
    "y = y_df[train_df.date_block_num > 23].values"
   ]
  },
  {
   "cell_type": "code",
   "execution_count": 21,
   "metadata": {},
   "outputs": [],
   "source": [
    "def cross_val_score_lgb(X, y, cv, params, categorical_feature):\n",
    "\n",
    "    scores = []\n",
    "\n",
    "    for train_idx, valid_idx in cv.split(X, y):\n",
    "\n",
    "        X_train, y_train = X[train_idx], y[train_idx]\n",
    "        X_valid, y_valid = X[valid_idx], y[valid_idx]\n",
    "\n",
    "        lgb_train = lgb.Dataset(X_train, y_train)\n",
    "        lgb_eval = lgb.Dataset(X_valid, y_valid, reference=lgb_train)\n",
    "\n",
    "        gbm = lgb.train(\n",
    "            params,\n",
    "            lgb_train,\n",
    "            valid_sets=lgb_eval,\n",
    "            early_stopping_rounds=30,\n",
    "            verbose_eval=10,\n",
    "            categorical_feature=categorical_feature)\n",
    "\n",
    "        y_pred = gbm.predict(X_valid, num_iteration=gbm.best_iteration)\n",
    "        score = mean_squared_error(y_valid, y_pred)**0.5\n",
    "        scores.append(score)\n",
    "        print(\"RMSE score:\", score)\n",
    "\n",
    "    return gbm, scores"
   ]
  },
  {
   "cell_type": "code",
   "execution_count": 22,
   "metadata": {
    "scrolled": true
   },
   "outputs": [
    {
     "name": "stderr",
     "output_type": "stream",
     "text": [
      "C:\\Users\\kipil\\Anaconda3\\lib\\site-packages\\lightgbm\\engine.py:116: UserWarning: Found `num_iterations` in params. Will use it instead of argument\n",
      "  warnings.warn(\"Found `{}` in params. Will use it instead of argument\".format(alias))\n",
      "C:\\Users\\kipil\\Anaconda3\\lib\\site-packages\\lightgbm\\basic.py:1190: UserWarning: categorical_feature in Dataset is overridden.\n",
      "New categorical_feature is [0, 1, 2, 3, 4, 5, 6]\n",
      "  'New categorical_feature is {}'.format(sorted(list(categorical_feature))))\n",
      "C:\\Users\\kipil\\Anaconda3\\lib\\site-packages\\lightgbm\\basic.py:1190: UserWarning: categorical_feature in Dataset is overridden.\n",
      "New categorical_feature is [0, 1, 2, 3, 4, 5, 6]\n",
      "  'New categorical_feature is {}'.format(sorted(list(categorical_feature))))\n",
      "C:\\Users\\kipil\\Anaconda3\\lib\\site-packages\\lightgbm\\basic.py:752: UserWarning: categorical_feature in param dict is overridden.\n",
      "  warnings.warn('categorical_feature in param dict is overridden.')\n"
     ]
    },
    {
     "name": "stdout",
     "output_type": "stream",
     "text": [
      "Training until validation scores don't improve for 30 rounds.\n",
      "[10]\tvalid_0's rmse: 0.807717\n",
      "[20]\tvalid_0's rmse: 0.752719\n",
      "[30]\tvalid_0's rmse: 0.731221\n",
      "[40]\tvalid_0's rmse: 0.718519\n",
      "[50]\tvalid_0's rmse: 0.7097\n",
      "[60]\tvalid_0's rmse: 0.702782\n",
      "[70]\tvalid_0's rmse: 0.699271\n",
      "[80]\tvalid_0's rmse: 0.695775\n",
      "[90]\tvalid_0's rmse: 0.692892\n",
      "[100]\tvalid_0's rmse: 0.689714\n",
      "[110]\tvalid_0's rmse: 0.686631\n",
      "[120]\tvalid_0's rmse: 0.684439\n",
      "[130]\tvalid_0's rmse: 0.681558\n",
      "[140]\tvalid_0's rmse: 0.677728\n",
      "[150]\tvalid_0's rmse: 0.676515\n",
      "[160]\tvalid_0's rmse: 0.674592\n",
      "[170]\tvalid_0's rmse: 0.673296\n",
      "[180]\tvalid_0's rmse: 0.671837\n",
      "[190]\tvalid_0's rmse: 0.670859\n",
      "[200]\tvalid_0's rmse: 0.66942\n",
      "[210]\tvalid_0's rmse: 0.668813\n",
      "[220]\tvalid_0's rmse: 0.66838\n",
      "[230]\tvalid_0's rmse: 0.667185\n",
      "[240]\tvalid_0's rmse: 0.666335\n",
      "[250]\tvalid_0's rmse: 0.665576\n",
      "[260]\tvalid_0's rmse: 0.664901\n",
      "[270]\tvalid_0's rmse: 0.663988\n",
      "[280]\tvalid_0's rmse: 0.663593\n",
      "[290]\tvalid_0's rmse: 0.663228\n",
      "[300]\tvalid_0's rmse: 0.662281\n",
      "[310]\tvalid_0's rmse: 0.661874\n",
      "[320]\tvalid_0's rmse: 0.661283\n",
      "[330]\tvalid_0's rmse: 0.660552\n",
      "[340]\tvalid_0's rmse: 0.660273\n",
      "[350]\tvalid_0's rmse: 0.659924\n",
      "[360]\tvalid_0's rmse: 0.659486\n",
      "[370]\tvalid_0's rmse: 0.659044\n",
      "[380]\tvalid_0's rmse: 0.658735\n",
      "[390]\tvalid_0's rmse: 0.65835\n",
      "[400]\tvalid_0's rmse: 0.658014\n",
      "[410]\tvalid_0's rmse: 0.657726\n",
      "[420]\tvalid_0's rmse: 0.657135\n",
      "[430]\tvalid_0's rmse: 0.656951\n",
      "[440]\tvalid_0's rmse: 0.656657\n",
      "[450]\tvalid_0's rmse: 0.656383\n",
      "[460]\tvalid_0's rmse: 0.65598\n",
      "[470]\tvalid_0's rmse: 0.655743\n",
      "[480]\tvalid_0's rmse: 0.655479\n",
      "[490]\tvalid_0's rmse: 0.655193\n",
      "[500]\tvalid_0's rmse: 0.654889\n",
      "Did not meet early stopping. Best iteration is:\n",
      "[495]\tvalid_0's rmse: 0.654869\n",
      "RMSE score: 0.6644034323287625\n"
     ]
    },
    {
     "name": "stderr",
     "output_type": "stream",
     "text": [
      "C:\\Users\\kipil\\Anaconda3\\lib\\site-packages\\lightgbm\\engine.py:116: UserWarning: Found `num_iterations` in params. Will use it instead of argument\n",
      "  warnings.warn(\"Found `{}` in params. Will use it instead of argument\".format(alias))\n",
      "C:\\Users\\kipil\\Anaconda3\\lib\\site-packages\\lightgbm\\basic.py:1190: UserWarning: categorical_feature in Dataset is overridden.\n",
      "New categorical_feature is [0, 1, 2, 3, 4, 5, 6]\n",
      "  'New categorical_feature is {}'.format(sorted(list(categorical_feature))))\n",
      "C:\\Users\\kipil\\Anaconda3\\lib\\site-packages\\lightgbm\\basic.py:1190: UserWarning: categorical_feature in Dataset is overridden.\n",
      "New categorical_feature is [0, 1, 2, 3, 4, 5, 6]\n",
      "  'New categorical_feature is {}'.format(sorted(list(categorical_feature))))\n",
      "C:\\Users\\kipil\\Anaconda3\\lib\\site-packages\\lightgbm\\basic.py:752: UserWarning: categorical_feature in param dict is overridden.\n",
      "  warnings.warn('categorical_feature in param dict is overridden.')\n"
     ]
    },
    {
     "name": "stdout",
     "output_type": "stream",
     "text": [
      "Training until validation scores don't improve for 30 rounds.\n",
      "[10]\tvalid_0's rmse: 0.642837\n",
      "[20]\tvalid_0's rmse: 0.599939\n",
      "[30]\tvalid_0's rmse: 0.579649\n",
      "[40]\tvalid_0's rmse: 0.569285\n",
      "[50]\tvalid_0's rmse: 0.560372\n",
      "[60]\tvalid_0's rmse: 0.547434\n",
      "[70]\tvalid_0's rmse: 0.54268\n",
      "[80]\tvalid_0's rmse: 0.539785\n",
      "[90]\tvalid_0's rmse: 0.535338\n",
      "[100]\tvalid_0's rmse: 0.53263\n",
      "[110]\tvalid_0's rmse: 0.531135\n",
      "[120]\tvalid_0's rmse: 0.530417\n",
      "[130]\tvalid_0's rmse: 0.528749\n",
      "[140]\tvalid_0's rmse: 0.525435\n",
      "[150]\tvalid_0's rmse: 0.522541\n",
      "[160]\tvalid_0's rmse: 0.521293\n",
      "[170]\tvalid_0's rmse: 0.5192\n",
      "[180]\tvalid_0's rmse: 0.518007\n",
      "[190]\tvalid_0's rmse: 0.517185\n",
      "[200]\tvalid_0's rmse: 0.514839\n",
      "[210]\tvalid_0's rmse: 0.513123\n",
      "[220]\tvalid_0's rmse: 0.511421\n",
      "[230]\tvalid_0's rmse: 0.509813\n",
      "[240]\tvalid_0's rmse: 0.50747\n",
      "[250]\tvalid_0's rmse: 0.506092\n",
      "[260]\tvalid_0's rmse: 0.504646\n",
      "[270]\tvalid_0's rmse: 0.504176\n",
      "[280]\tvalid_0's rmse: 0.503382\n",
      "[290]\tvalid_0's rmse: 0.502462\n",
      "[300]\tvalid_0's rmse: 0.501495\n",
      "[310]\tvalid_0's rmse: 0.500845\n",
      "[320]\tvalid_0's rmse: 0.5005\n",
      "[330]\tvalid_0's rmse: 0.499524\n",
      "[340]\tvalid_0's rmse: 0.498479\n",
      "[350]\tvalid_0's rmse: 0.497923\n",
      "[360]\tvalid_0's rmse: 0.497506\n",
      "[370]\tvalid_0's rmse: 0.497068\n",
      "[380]\tvalid_0's rmse: 0.496572\n",
      "[390]\tvalid_0's rmse: 0.496313\n",
      "[400]\tvalid_0's rmse: 0.495923\n",
      "[410]\tvalid_0's rmse: 0.495705\n",
      "[420]\tvalid_0's rmse: 0.49494\n",
      "[430]\tvalid_0's rmse: 0.494558\n",
      "[440]\tvalid_0's rmse: 0.49401\n",
      "[450]\tvalid_0's rmse: 0.493981\n",
      "[460]\tvalid_0's rmse: 0.493344\n",
      "[470]\tvalid_0's rmse: 0.493195\n",
      "[480]\tvalid_0's rmse: 0.492194\n",
      "[490]\tvalid_0's rmse: 0.492314\n",
      "[500]\tvalid_0's rmse: 0.491805\n",
      "Did not meet early stopping. Best iteration is:\n",
      "[500]\tvalid_0's rmse: 0.491805\n",
      "RMSE score: 0.4910133320176178\n"
     ]
    },
    {
     "name": "stderr",
     "output_type": "stream",
     "text": [
      "C:\\Users\\kipil\\Anaconda3\\lib\\site-packages\\lightgbm\\engine.py:116: UserWarning: Found `num_iterations` in params. Will use it instead of argument\n",
      "  warnings.warn(\"Found `{}` in params. Will use it instead of argument\".format(alias))\n",
      "C:\\Users\\kipil\\Anaconda3\\lib\\site-packages\\lightgbm\\basic.py:1190: UserWarning: categorical_feature in Dataset is overridden.\n",
      "New categorical_feature is [0, 1, 2, 3, 4, 5, 6]\n",
      "  'New categorical_feature is {}'.format(sorted(list(categorical_feature))))\n",
      "C:\\Users\\kipil\\Anaconda3\\lib\\site-packages\\lightgbm\\basic.py:1190: UserWarning: categorical_feature in Dataset is overridden.\n",
      "New categorical_feature is [0, 1, 2, 3, 4, 5, 6]\n",
      "  'New categorical_feature is {}'.format(sorted(list(categorical_feature))))\n",
      "C:\\Users\\kipil\\Anaconda3\\lib\\site-packages\\lightgbm\\basic.py:752: UserWarning: categorical_feature in param dict is overridden.\n",
      "  warnings.warn('categorical_feature in param dict is overridden.')\n"
     ]
    },
    {
     "name": "stdout",
     "output_type": "stream",
     "text": [
      "Training until validation scores don't improve for 30 rounds.\n",
      "[10]\tvalid_0's rmse: 0.793257\n",
      "[20]\tvalid_0's rmse: 0.743659\n",
      "[30]\tvalid_0's rmse: 0.724379\n",
      "[40]\tvalid_0's rmse: 0.715535\n",
      "[50]\tvalid_0's rmse: 0.712142\n",
      "[60]\tvalid_0's rmse: 0.707474\n",
      "[70]\tvalid_0's rmse: 0.703732\n",
      "[80]\tvalid_0's rmse: 0.702653\n",
      "[90]\tvalid_0's rmse: 0.70625\n",
      "[100]\tvalid_0's rmse: 0.706039\n",
      "Early stopping, best iteration is:\n",
      "[74]\tvalid_0's rmse: 0.70239\n",
      "RMSE score: 0.6999069503343308\n"
     ]
    },
    {
     "name": "stderr",
     "output_type": "stream",
     "text": [
      "C:\\Users\\kipil\\Anaconda3\\lib\\site-packages\\lightgbm\\engine.py:116: UserWarning: Found `num_iterations` in params. Will use it instead of argument\n",
      "  warnings.warn(\"Found `{}` in params. Will use it instead of argument\".format(alias))\n",
      "C:\\Users\\kipil\\Anaconda3\\lib\\site-packages\\lightgbm\\basic.py:1190: UserWarning: categorical_feature in Dataset is overridden.\n",
      "New categorical_feature is [0, 1, 2, 3, 4, 5, 6]\n",
      "  'New categorical_feature is {}'.format(sorted(list(categorical_feature))))\n",
      "C:\\Users\\kipil\\Anaconda3\\lib\\site-packages\\lightgbm\\basic.py:1190: UserWarning: categorical_feature in Dataset is overridden.\n",
      "New categorical_feature is [0, 1, 2, 3, 4, 5, 6]\n",
      "  'New categorical_feature is {}'.format(sorted(list(categorical_feature))))\n",
      "C:\\Users\\kipil\\Anaconda3\\lib\\site-packages\\lightgbm\\basic.py:752: UserWarning: categorical_feature in param dict is overridden.\n",
      "  warnings.warn('categorical_feature in param dict is overridden.')\n"
     ]
    },
    {
     "name": "stdout",
     "output_type": "stream",
     "text": [
      "Training until validation scores don't improve for 30 rounds.\n",
      "[10]\tvalid_0's rmse: 0.778131\n",
      "[20]\tvalid_0's rmse: 0.720911\n",
      "[30]\tvalid_0's rmse: 0.698001\n",
      "[40]\tvalid_0's rmse: 0.6858\n",
      "[50]\tvalid_0's rmse: 0.67723\n",
      "[60]\tvalid_0's rmse: 0.666357\n",
      "[70]\tvalid_0's rmse: 0.662042\n",
      "[80]\tvalid_0's rmse: 0.660018\n",
      "[90]\tvalid_0's rmse: 0.655808\n",
      "[100]\tvalid_0's rmse: 0.653056\n",
      "[110]\tvalid_0's rmse: 0.651346\n",
      "[120]\tvalid_0's rmse: 0.648372\n",
      "[130]\tvalid_0's rmse: 0.645218\n",
      "[140]\tvalid_0's rmse: 0.644758\n",
      "[150]\tvalid_0's rmse: 0.641106\n",
      "[160]\tvalid_0's rmse: 0.641271\n",
      "[170]\tvalid_0's rmse: 0.63979\n",
      "[180]\tvalid_0's rmse: 0.637948\n",
      "[190]\tvalid_0's rmse: 0.636962\n",
      "[200]\tvalid_0's rmse: 0.636094\n",
      "[210]\tvalid_0's rmse: 0.633755\n",
      "[220]\tvalid_0's rmse: 0.633159\n",
      "[230]\tvalid_0's rmse: 0.633577\n",
      "[240]\tvalid_0's rmse: 0.631769\n",
      "[250]\tvalid_0's rmse: 0.631558\n",
      "[260]\tvalid_0's rmse: 0.630139\n",
      "[270]\tvalid_0's rmse: 0.628307\n",
      "[280]\tvalid_0's rmse: 0.628237\n",
      "[290]\tvalid_0's rmse: 0.62706\n",
      "[300]\tvalid_0's rmse: 0.625087\n",
      "[310]\tvalid_0's rmse: 0.623533\n",
      "[320]\tvalid_0's rmse: 0.623197\n",
      "[330]\tvalid_0's rmse: 0.623057\n",
      "[340]\tvalid_0's rmse: 0.621479\n",
      "[350]\tvalid_0's rmse: 0.620852\n",
      "[360]\tvalid_0's rmse: 0.621017\n",
      "[370]\tvalid_0's rmse: 0.620654\n",
      "[380]\tvalid_0's rmse: 0.619852\n",
      "[390]\tvalid_0's rmse: 0.619486\n",
      "[400]\tvalid_0's rmse: 0.619152\n",
      "[410]\tvalid_0's rmse: 0.618725\n",
      "[420]\tvalid_0's rmse: 0.618517\n",
      "[430]\tvalid_0's rmse: 0.618241\n",
      "[440]\tvalid_0's rmse: 0.617965\n",
      "[450]\tvalid_0's rmse: 0.617605\n",
      "[460]\tvalid_0's rmse: 0.616507\n",
      "[470]\tvalid_0's rmse: 0.616661\n",
      "[480]\tvalid_0's rmse: 0.616275\n",
      "[490]\tvalid_0's rmse: 0.616494\n",
      "[500]\tvalid_0's rmse: 0.616357\n",
      "Did not meet early stopping. Best iteration is:\n",
      "[482]\tvalid_0's rmse: 0.616185\n",
      "RMSE score: 0.6233810142498251\n"
     ]
    },
    {
     "name": "stderr",
     "output_type": "stream",
     "text": [
      "C:\\Users\\kipil\\Anaconda3\\lib\\site-packages\\lightgbm\\engine.py:116: UserWarning: Found `num_iterations` in params. Will use it instead of argument\n",
      "  warnings.warn(\"Found `{}` in params. Will use it instead of argument\".format(alias))\n",
      "C:\\Users\\kipil\\Anaconda3\\lib\\site-packages\\lightgbm\\basic.py:1190: UserWarning: categorical_feature in Dataset is overridden.\n",
      "New categorical_feature is [0, 1, 2, 3, 4, 5, 6]\n",
      "  'New categorical_feature is {}'.format(sorted(list(categorical_feature))))\n",
      "C:\\Users\\kipil\\Anaconda3\\lib\\site-packages\\lightgbm\\basic.py:1190: UserWarning: categorical_feature in Dataset is overridden.\n",
      "New categorical_feature is [0, 1, 2, 3, 4, 5, 6]\n",
      "  'New categorical_feature is {}'.format(sorted(list(categorical_feature))))\n",
      "C:\\Users\\kipil\\Anaconda3\\lib\\site-packages\\lightgbm\\basic.py:752: UserWarning: categorical_feature in param dict is overridden.\n",
      "  warnings.warn('categorical_feature in param dict is overridden.')\n"
     ]
    },
    {
     "name": "stdout",
     "output_type": "stream",
     "text": [
      "Training until validation scores don't improve for 30 rounds.\n",
      "[10]\tvalid_0's rmse: 1.24441\n",
      "[20]\tvalid_0's rmse: 1.15158\n",
      "[30]\tvalid_0's rmse: 1.11701\n",
      "[40]\tvalid_0's rmse: 1.1024\n",
      "[50]\tvalid_0's rmse: 1.08809\n",
      "[60]\tvalid_0's rmse: 1.07504\n",
      "[70]\tvalid_0's rmse: 1.06569\n",
      "[80]\tvalid_0's rmse: 1.067\n",
      "[90]\tvalid_0's rmse: 1.06089\n",
      "[100]\tvalid_0's rmse: 1.05551\n",
      "[110]\tvalid_0's rmse: 1.05384\n",
      "[120]\tvalid_0's rmse: 1.05181\n",
      "[130]\tvalid_0's rmse: 1.04825\n",
      "[140]\tvalid_0's rmse: 1.04313\n",
      "[150]\tvalid_0's rmse: 1.04092\n",
      "[160]\tvalid_0's rmse: 1.03807\n",
      "[170]\tvalid_0's rmse: 1.03716\n",
      "[180]\tvalid_0's rmse: 1.03478\n",
      "[190]\tvalid_0's rmse: 1.03394\n",
      "[200]\tvalid_0's rmse: 1.03116\n",
      "[210]\tvalid_0's rmse: 1.03023\n",
      "[220]\tvalid_0's rmse: 1.02707\n",
      "[230]\tvalid_0's rmse: 1.02477\n",
      "[240]\tvalid_0's rmse: 1.02343\n",
      "[250]\tvalid_0's rmse: 1.02168\n",
      "[260]\tvalid_0's rmse: 1.02035\n",
      "[270]\tvalid_0's rmse: 1.01803\n",
      "[280]\tvalid_0's rmse: 1.01716\n",
      "[290]\tvalid_0's rmse: 1.01531\n",
      "[300]\tvalid_0's rmse: 1.01383\n",
      "[310]\tvalid_0's rmse: 1.0113\n",
      "[320]\tvalid_0's rmse: 1.01065\n",
      "[330]\tvalid_0's rmse: 1.00897\n",
      "[340]\tvalid_0's rmse: 1.00793\n",
      "[350]\tvalid_0's rmse: 1.00763\n",
      "[360]\tvalid_0's rmse: 1.0073\n",
      "[370]\tvalid_0's rmse: 1.00488\n",
      "[380]\tvalid_0's rmse: 1.00494\n",
      "[390]\tvalid_0's rmse: 1.00424\n",
      "[400]\tvalid_0's rmse: 1.00163\n",
      "[410]\tvalid_0's rmse: 1.00068\n",
      "[420]\tvalid_0's rmse: 1.00011\n",
      "[430]\tvalid_0's rmse: 1.00078\n",
      "[440]\tvalid_0's rmse: 0.998749\n",
      "[450]\tvalid_0's rmse: 0.998223\n",
      "[460]\tvalid_0's rmse: 0.997885\n",
      "[470]\tvalid_0's rmse: 0.998314\n",
      "[480]\tvalid_0's rmse: 0.997136\n",
      "[490]\tvalid_0's rmse: 0.994817\n",
      "[500]\tvalid_0's rmse: 0.994219\n",
      "Did not meet early stopping. Best iteration is:\n",
      "[497]\tvalid_0's rmse: 0.994207\n",
      "RMSE score: 0.9889956795947848\n"
     ]
    }
   ],
   "source": [
    "params = {\n",
    "    'boosting_type': 'gbdt',\n",
    "    'objective': 'rmse',\n",
    "    'verbose': 10,\n",
    "    'num_iterations': 500\n",
    "}\n",
    "categorical_columns = list(range(7))\n",
    "cv = TimeSeriesSplit(n_splits=5)\n",
    "\n",
    "gbm, scores = cross_val_score_lgb(X, y, cv, params, categorical_columns)"
   ]
  },
  {
   "cell_type": "code",
   "execution_count": 23,
   "metadata": {},
   "outputs": [
    {
     "data": {
      "text/plain": [
       "[0.6644034323287625,\n",
       " 0.4910133320176178,\n",
       " 0.6999069503343308,\n",
       " 0.6233810142498251,\n",
       " 0.9889956795947848]"
      ]
     },
     "execution_count": 23,
     "metadata": {},
     "output_type": "execute_result"
    }
   ],
   "source": [
    "scores"
   ]
  },
  {
   "cell_type": "markdown",
   "metadata": {},
   "source": [
    "Data augmentation with time lag avg, month, days and cumavg 500 iterations"
   ]
  },
  {
   "cell_type": "code",
   "execution_count": 15,
   "metadata": {},
   "outputs": [
    {
     "data": {
      "text/plain": [
       "[0.6537087785561871,\n",
       " 0.5296644576606827,\n",
       " 0.7014667819175524,\n",
       " 0.6422563224291755,\n",
       " 1.0368055787092776]"
      ]
     },
     "execution_count": 15,
     "metadata": {},
     "output_type": "execute_result"
    }
   ],
   "source": [
    "scores"
   ]
  },
  {
   "cell_type": "markdown",
   "metadata": {},
   "source": [
    "Data augmentation with time lag avg, month, days and cumavg"
   ]
  },
  {
   "cell_type": "code",
   "execution_count": 13,
   "metadata": {},
   "outputs": [
    {
     "data": {
      "text/plain": [
       "[0.6694386804134628,\n",
       " 0.5485834971912578,\n",
       " 0.7014667819175524,\n",
       " 0.654981398489036,\n",
       " 1.0558478123847361]"
      ]
     },
     "execution_count": 13,
     "metadata": {},
     "output_type": "execute_result"
    }
   ],
   "source": [
    "scores"
   ]
  },
  {
   "cell_type": "markdown",
   "metadata": {},
   "source": [
    "Data augmentation with time lag sums and cumavg"
   ]
  },
  {
   "cell_type": "code",
   "execution_count": 9,
   "metadata": {},
   "outputs": [
    {
     "data": {
      "text/plain": [
       "[0.692267242717027,\n",
       " 0.5688563456460106,\n",
       " 0.7413226573257845,\n",
       " 0.6934469836768359,\n",
       " 1.068076276003053]"
      ]
     },
     "execution_count": 9,
     "metadata": {},
     "output_type": "execute_result"
    }
   ],
   "source": [
    "scores"
   ]
  },
  {
   "cell_type": "code",
   "execution_count": 24,
   "metadata": {},
   "outputs": [
    {
     "data": {
      "image/png": "[encoded data removed]",
      "text/plain": [
       "<Figure size 864x648 with 1 Axes>"
      ]
     },
     "metadata": {
      "needs_background": "light"
     },
     "output_type": "display_data"
    }
   ],
   "source": [
    "lgbmMetrics = pd.concat([pd.Series(columns), pd.Series(gbm.feature_importance())], axis=1)\n",
    "lgbmMetrics.columns = ['Name', 'importance']\n",
    "metrics_sorted = lgbmMetrics.sort_values(by='importance', ascending=False)\n",
    "g = sns.barplot(x=\"importance\", y=\"Name\", data=metrics_sorted)\n",
    "g.figure.set_size_inches(12, 9)"
   ]
  },
  {
   "cell_type": "code",
   "execution_count": null,
   "metadata": {},
   "outputs": [],
   "source": []
  }
 ],
 "metadata": {
  "kernelspec": {
   "display_name": "Python 3",
   "language": "python",
   "name": "python3"
  },
  "language_info": {
   "codemirror_mode": {
    "name": "ipython",
    "version": 3
   },
   "file_extension": ".py",
   "mimetype": "text/x-python",
   "name": "python",
   "nbconvert_exporter": "python",
   "pygments_lexer": "ipython3",
   "version": "3.6.6"
  }
 },
 "nbformat": 4,
 "nbformat_minor": 2
}
